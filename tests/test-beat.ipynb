{
 "cells": [
  {
   "cell_type": "markdown",
   "source": [
    "# Test beat tracking approaches\n",
    "Tests were done on 31 songs, information about them can be found in file `data.json`.\n",
    "For testing, methods from `detect.py` were used. \n",
    "\n",
    "Each generated file with beat track was then played to check if the beat track actually aligns with beats."
   ],
   "metadata": {
    "collapsed": false
   },
   "id": "33791f089df4c562"
  },
  {
   "cell_type": "code",
   "execution_count": 1,
   "outputs": [],
   "source": [
    "import json\n",
    "\n",
    "import numpy as np\n",
    "import pandas as pd\n",
    "from scipy.io import wavfile as wav\n",
    "import librosa\n",
    "import RhythmRecognition.detect\n",
    "from RhythmRecognition.constants import *\n",
    "\n",
    "import IPython.display as ipd\n",
    "\n",
    "f = open('data.json')\n",
    "songs = json.load(f)\n",
    "f.close()\n",
    "path = \"../audio_files/\"\n"
   ],
   "metadata": {
    "collapsed": false,
    "ExecuteTime": {
     "end_time": "2024-05-06T19:28:32.153798Z",
     "start_time": "2024-05-06T19:28:31.056713100Z"
    }
   },
   "id": "initial_id"
  },
  {
   "cell_type": "code",
   "execution_count": 2,
   "outputs": [],
   "source": [
    "# method for creating a wav file with beat track\n",
    "def save(signal, beat_track, filename):\n",
    "    beat_track = librosa.clicks(times=beat_track, sr=SAMPLING_RATE, length=len(signal), hop_length=HOP_LENGTH)\n",
    "    combined = signal + beat_track\n",
    "    wav.write(filename, SAMPLING_RATE, combined.astype(signal.dtype))"
   ],
   "metadata": {
    "collapsed": false,
    "ExecuteTime": {
     "end_time": "2024-05-06T19:28:32.161495800Z",
     "start_time": "2024-05-06T19:28:32.155810100Z"
    }
   },
   "id": "68448e3487a0b93e"
  },
  {
   "cell_type": "markdown",
   "source": [
    "Beat track will be generated using known tempo (it will not be calculated using any of the tempogram methods) so we can be sure that the used tempo is correct. If the generated beat track will be bad, it will not be caused by an incorrectly calculated tempo."
   ],
   "metadata": {
    "collapsed": false
   },
   "id": "3d7b66dcf5569169"
  },
  {
   "cell_type": "code",
   "execution_count": 4,
   "outputs": [
    {
     "name": "stdout",
     "output_type": "stream",
     "text": [
      "0/31, 1/31, 2/31, 3/31, 4/31, 5/31, 6/31, 7/31, 8/31, 9/31, 10/31, 11/31, 12/31, 13/31, 14/31, 15/31, 16/31, 17/31, 18/31, 19/31, 20/31, 21/31, 22/31, 23/31, 24/31, 25/31, 26/31, 27/31, 28/31, 29/31, 30/31, "
     ]
    }
   ],
   "source": [
    "duration = 40  # how many seconds of the song should be loaded (this is just for faster run, we could definitely just load the whole song, but then the processing will take much longer)\n",
    "\n",
    "for i in range(len(songs)):\n",
    "    print(i, \"/\", len(songs), sep=\"\", end=\", \")\n",
    "    song = songs[i]\n",
    "    audiofile = path + song[\"filename\"]\n",
    "    \n",
    "    signal, _ = librosa.load(audiofile, duration=duration, sr=SAMPLING_RATE)  # load the audio file\n",
    "    \n",
    "    # generate and save beat track for score-based beat tracking over spectral novelty function\n",
    "    beat_track = RhythmRecognition.detect.beat_track(audiofile, bpm=song[\"tempo\"], approach=\"score\",novelty_approach=\"spectral\")\n",
    "    save(signal, beat_track, \"out/beat/score/spectral/\" + song[\"name\"] + str(i) +\".wav\")\n",
    "\n",
    "    # generate and save beat track for score-based beat tracking over energy novelty function\n",
    "    beat_track = RhythmRecognition.detect.beat_track(audiofile, bpm=song[\"tempo\"], approach=\"score\", novelty_approach=\"energy\")\n",
    "    save(signal, beat_track, \"out/beat/score/energy/\" + song[\"name\"] + str(i) +\".wav\")\n",
    "\n",
    "    # generate and save beat track for penalty-based beat tracking over spectral novelty function\n",
    "    beat_track = RhythmRecognition.detect.beat_track(audiofile, bpm=song[\"tempo\"], approach=\"penalty\", \n",
    "                                                     novelty_approach=\"spectral\")\n",
    "    save(signal, beat_track, \"out/beat/penalty/spectral/\" + song[\"name\"]+ str(i) +\".wav\")\n",
    "\n",
    "    # generate and save beat track for penalty-based beat tracking over energy novelty function\n",
    "    beat_track = RhythmRecognition.detect.beat_track(audiofile, bpm=song[\"tempo\"], approach=\"penalty\", \n",
    "                                                     novelty_approach=\"energy\")\n",
    "    save(signal, beat_track, \"out/beat/penalty/energy/\" + song[\"name\"] + str(i) +\".wav\")"
   ],
   "metadata": {
    "collapsed": false,
    "ExecuteTime": {
     "end_time": "2024-05-06T19:31:36.544633300Z",
     "start_time": "2024-05-06T19:28:43.169573100Z"
    }
   },
   "id": "1a1133df06be830b"
  },
  {
   "cell_type": "markdown",
   "source": [
    "### Beat tracking results\n",
    "After listening to all generated files, I gave each file one of the following three values:\n",
    "* **ok** - if the generated beat track aligned with beats\n",
    "* **half** - if the generated beat clicks were right in the middle of two actual beats, so the found time shift was exactly half of the correct beat time shift\n",
    "* *no** - if the beat track was completely wrong\n"
   ],
   "metadata": {
    "collapsed": false
   },
   "id": "c4a95604f08329ee"
  },
  {
   "cell_type": "code",
   "execution_count": null,
   "outputs": [],
   "source": [
    "beat_df = pd.read_csv(\"beat_results.csv\")\n",
    "beat_df"
   ],
   "metadata": {
    "collapsed": false,
    "ExecuteTime": {
     "start_time": "2024-05-06T19:28:40.560975100Z"
    }
   },
   "id": "b9546c09fdea3bbf"
  },
  {
   "cell_type": "code",
   "execution_count": 12,
   "outputs": [
    {
     "name": "stdout",
     "output_type": "stream",
     "text": [
      "0/31, 1/31, 2/31, 3/31, 4/31, 5/31, 6/31, 7/31, 8/31, 9/31, 10/31, 11/31, 12/31, 13/31, 14/31, 15/31, 16/31, 17/31, 18/31, 19/31, 20/31, 21/31, 22/31, 23/31, 24/31, 25/31, 26/31, 27/31, 28/31, 29/31, 30/31, "
     ]
    }
   ],
   "source": [
    "for i in range(len(songs)):\n",
    "    print(i, \"/\", len(songs), sep=\"\", end=\", \")\n",
    "    song = songs[i]\n",
    "    audiofile = path + song[\"filename\"]\n",
    "    \n",
    "    signal, _ = librosa.load(audiofile, duration=duration, sr=SAMPLING_RATE)  # load the audio file\n",
    "    \n",
    "    # generate and save beat track for score-based beat tracking over spectral novelty function\n",
    "\n",
    "    song[\"score-energy\"] = RhythmRecognition.detect.beat_time_shift(audiofile, bpm=song[\"tempo\"], approach=\"score\", novelty_approach=\"energy\")\n",
    "\n",
    "    song[\"penalty-energy\"] = RhythmRecognition.detect.beat_time_shift(audiofile, bpm=song[\"tempo\"], approach=\"penalty\", \n",
    "                                                     novelty_approach=\"energy\")\n",
    "    song[\"score-spectral\"] = RhythmRecognition.detect.beat_time_shift(audiofile, bpm=song[\"tempo\"], approach=\"score\",novelty_approach=\"spectral\")\n",
    "    song[\"penalty-spectral\"] = RhythmRecognition.detect.beat_time_shift(audiofile, bpm=song[\"tempo\"], approach=\"penalty\", \n",
    "                                                     novelty_approach=\"spectral\")\n",
    "\n"
   ],
   "metadata": {
    "collapsed": false,
    "ExecuteTime": {
     "end_time": "2024-05-06T21:48:46.682182400Z",
     "start_time": "2024-05-06T21:45:11.325527400Z"
    }
   },
   "id": "33bb1ea8f491dbce"
  },
  {
   "cell_type": "code",
   "execution_count": 23,
   "outputs": [
    {
     "data": {
      "text/plain": "                         filename                       name  \\\n0                      africa.wav                     Africa   \n1                       alone.wav                      Alone   \n2            around_the_world.wav           Around the World   \n3                  baby_shark.wav                 Baby Shark   \n4              beautiful_life.wav             Beautiful Life   \n5                    believer.wav                   Believer   \n6               call_me_maybe.wav              Call Me Maybe   \n7       cant_stop_the_feeling.wav    Can't Stop the Feeling!   \n8                  dont_speak.wav                Don't Speak   \n9                  evangeline.wav                 Evangeline   \n10                      faded.wav                      Faded   \n11                   firework.wav                   Firework   \n12             hollaback_girl.wav             Hollaback Girl   \n13          i_ran_so_far_away.wav        I Ran (So Far Away)   \n14          im_still_standing.wav         I'm Still Standing   \n15                its_my_life.wav               It's My Life   \n16  love_you_like_a_love_song.wav  Love You Like a Love Song   \n17                 mambo_no_5.wav                Mambo No. 5   \n18                  on_my_way.wav                  On My Way   \n19          seven_nation_army.wav          Seven Nation Army   \n20               shake_it_off.wav               Shake It Off   \n21                      spark.wav                      Spark   \n22              stereo_hearts.wav              Stereo Hearts   \n23             temple_of_love.wav             Temple of Love   \n24                    thunder.wav                    Thunder   \n25                   thunder2.wav                    Thunder   \n26                uptown_funk.wav                Uptown Funk   \n27        valhalla_calling_me.wav        Valhalla Calling Me   \n28           we_will_rock_you.wav           We Will Rock You   \n29                without_you.wav                Without You   \n30                       ymca.wav                   Y.M.C.A.   \n\n                                     artist  tempo  score-spectral  \\\n0                                      Toto     92           0.165   \n1                               Alan Walker     97           0.213   \n2                                       ATC    132           0.423   \n3                                  Pinkfong    115           0.321   \n4                               Ace of Base    135           0.090   \n5                           Imagine Dragons    125           0.429   \n6                          Carly Rae Jepsen    120           0.263   \n7                         Justin Timberlake    113           0.413   \n8                                  No Doubt     76           0.445   \n9                             Matthew Sweet    175           0.253   \n10                              Alan Walker     90           0.533   \n11                               Katy Perry    124           0.407   \n12                             Gwen Stefani    110           0.339   \n13                      A Flock Of Seagulls    146           0.084   \n14                               Elton John    177           0.138   \n15                                 Bon Jovi    120           0.247   \n16                             Selena Gomez    117           0.099   \n17                                 Lou Bega    174           0.124   \n18  Sabrina Carpenter, Alan Walker, Farruko    170           0.105   \n19                        The White Stripes    124           0.241   \n20                             Taylor Swift    160           0.053   \n21                                  Vexento    117           0.012   \n22                         Gym Class Heroes     90           0.356   \n23                     The Sisters of Mercy    166           0.165   \n24                          Imagine Dragons    168           0.244   \n25             Gabry Ponte, Prezioso, LUM!X    135           0.020   \n26                  Mark Ronson, Bruno Mars    115           0.332   \n27                         Miracle of Sound    152           0.224   \n28                                    Queen     81           0.484   \n29                                   Avicii    134           0.078   \n30                           Village People    127           0.417   \n\n    score-energy  penalty-spectral  penalty-energy  \n0          0.409             0.486           0.171  \n1          0.185             0.213           0.495  \n2          0.401             0.425           0.404  \n3          0.290             0.322           0.042  \n4          0.066             0.308           0.061  \n5          0.403             0.432           0.431  \n6          0.239             0.018           0.237  \n7          0.386             0.417           0.391  \n8          0.410             0.431           0.419  \n9          0.215             0.070           0.132  \n10         0.513             0.530           0.511  \n11         0.397             0.176           0.396  \n12         0.307             0.335           0.306  \n13         0.059             0.166           0.068  \n14         0.124             0.086           0.077  \n15         0.215             0.247           0.217  \n16         0.072             0.098           0.067  \n17         0.074             0.122           0.110  \n18         0.075             0.105           0.075  \n19         0.459             0.142           0.203  \n20         0.028             0.252           0.216  \n21         0.510             0.014           0.509  \n22         0.333             0.355           0.335  \n23         0.143             0.167           0.139  \n24         0.216             0.243           0.216  \n25         0.286             0.020           0.283  \n26         0.304             0.333           0.304  \n27         0.201             0.233           0.198  \n28         0.175             0.580           0.176  \n29         0.060             0.076           0.066  \n30         0.410             0.149           0.383  ",
      "text/html": "<div>\n<style scoped>\n    .dataframe tbody tr th:only-of-type {\n        vertical-align: middle;\n    }\n\n    .dataframe tbody tr th {\n        vertical-align: top;\n    }\n\n    .dataframe thead th {\n        text-align: right;\n    }\n</style>\n<table border=\"1\" class=\"dataframe\">\n  <thead>\n    <tr style=\"text-align: right;\">\n      <th></th>\n      <th>filename</th>\n      <th>name</th>\n      <th>artist</th>\n      <th>tempo</th>\n      <th>score-spectral</th>\n      <th>score-energy</th>\n      <th>penalty-spectral</th>\n      <th>penalty-energy</th>\n    </tr>\n  </thead>\n  <tbody>\n    <tr>\n      <th>0</th>\n      <td>africa.wav</td>\n      <td>Africa</td>\n      <td>Toto</td>\n      <td>92</td>\n      <td>0.165</td>\n      <td>0.409</td>\n      <td>0.486</td>\n      <td>0.171</td>\n    </tr>\n    <tr>\n      <th>1</th>\n      <td>alone.wav</td>\n      <td>Alone</td>\n      <td>Alan Walker</td>\n      <td>97</td>\n      <td>0.213</td>\n      <td>0.185</td>\n      <td>0.213</td>\n      <td>0.495</td>\n    </tr>\n    <tr>\n      <th>2</th>\n      <td>around_the_world.wav</td>\n      <td>Around the World</td>\n      <td>ATC</td>\n      <td>132</td>\n      <td>0.423</td>\n      <td>0.401</td>\n      <td>0.425</td>\n      <td>0.404</td>\n    </tr>\n    <tr>\n      <th>3</th>\n      <td>baby_shark.wav</td>\n      <td>Baby Shark</td>\n      <td>Pinkfong</td>\n      <td>115</td>\n      <td>0.321</td>\n      <td>0.290</td>\n      <td>0.322</td>\n      <td>0.042</td>\n    </tr>\n    <tr>\n      <th>4</th>\n      <td>beautiful_life.wav</td>\n      <td>Beautiful Life</td>\n      <td>Ace of Base</td>\n      <td>135</td>\n      <td>0.090</td>\n      <td>0.066</td>\n      <td>0.308</td>\n      <td>0.061</td>\n    </tr>\n    <tr>\n      <th>5</th>\n      <td>believer.wav</td>\n      <td>Believer</td>\n      <td>Imagine Dragons</td>\n      <td>125</td>\n      <td>0.429</td>\n      <td>0.403</td>\n      <td>0.432</td>\n      <td>0.431</td>\n    </tr>\n    <tr>\n      <th>6</th>\n      <td>call_me_maybe.wav</td>\n      <td>Call Me Maybe</td>\n      <td>Carly Rae Jepsen</td>\n      <td>120</td>\n      <td>0.263</td>\n      <td>0.239</td>\n      <td>0.018</td>\n      <td>0.237</td>\n    </tr>\n    <tr>\n      <th>7</th>\n      <td>cant_stop_the_feeling.wav</td>\n      <td>Can't Stop the Feeling!</td>\n      <td>Justin Timberlake</td>\n      <td>113</td>\n      <td>0.413</td>\n      <td>0.386</td>\n      <td>0.417</td>\n      <td>0.391</td>\n    </tr>\n    <tr>\n      <th>8</th>\n      <td>dont_speak.wav</td>\n      <td>Don't Speak</td>\n      <td>No Doubt</td>\n      <td>76</td>\n      <td>0.445</td>\n      <td>0.410</td>\n      <td>0.431</td>\n      <td>0.419</td>\n    </tr>\n    <tr>\n      <th>9</th>\n      <td>evangeline.wav</td>\n      <td>Evangeline</td>\n      <td>Matthew Sweet</td>\n      <td>175</td>\n      <td>0.253</td>\n      <td>0.215</td>\n      <td>0.070</td>\n      <td>0.132</td>\n    </tr>\n    <tr>\n      <th>10</th>\n      <td>faded.wav</td>\n      <td>Faded</td>\n      <td>Alan Walker</td>\n      <td>90</td>\n      <td>0.533</td>\n      <td>0.513</td>\n      <td>0.530</td>\n      <td>0.511</td>\n    </tr>\n    <tr>\n      <th>11</th>\n      <td>firework.wav</td>\n      <td>Firework</td>\n      <td>Katy Perry</td>\n      <td>124</td>\n      <td>0.407</td>\n      <td>0.397</td>\n      <td>0.176</td>\n      <td>0.396</td>\n    </tr>\n    <tr>\n      <th>12</th>\n      <td>hollaback_girl.wav</td>\n      <td>Hollaback Girl</td>\n      <td>Gwen Stefani</td>\n      <td>110</td>\n      <td>0.339</td>\n      <td>0.307</td>\n      <td>0.335</td>\n      <td>0.306</td>\n    </tr>\n    <tr>\n      <th>13</th>\n      <td>i_ran_so_far_away.wav</td>\n      <td>I Ran (So Far Away)</td>\n      <td>A Flock Of Seagulls</td>\n      <td>146</td>\n      <td>0.084</td>\n      <td>0.059</td>\n      <td>0.166</td>\n      <td>0.068</td>\n    </tr>\n    <tr>\n      <th>14</th>\n      <td>im_still_standing.wav</td>\n      <td>I'm Still Standing</td>\n      <td>Elton John</td>\n      <td>177</td>\n      <td>0.138</td>\n      <td>0.124</td>\n      <td>0.086</td>\n      <td>0.077</td>\n    </tr>\n    <tr>\n      <th>15</th>\n      <td>its_my_life.wav</td>\n      <td>It's My Life</td>\n      <td>Bon Jovi</td>\n      <td>120</td>\n      <td>0.247</td>\n      <td>0.215</td>\n      <td>0.247</td>\n      <td>0.217</td>\n    </tr>\n    <tr>\n      <th>16</th>\n      <td>love_you_like_a_love_song.wav</td>\n      <td>Love You Like a Love Song</td>\n      <td>Selena Gomez</td>\n      <td>117</td>\n      <td>0.099</td>\n      <td>0.072</td>\n      <td>0.098</td>\n      <td>0.067</td>\n    </tr>\n    <tr>\n      <th>17</th>\n      <td>mambo_no_5.wav</td>\n      <td>Mambo No. 5</td>\n      <td>Lou Bega</td>\n      <td>174</td>\n      <td>0.124</td>\n      <td>0.074</td>\n      <td>0.122</td>\n      <td>0.110</td>\n    </tr>\n    <tr>\n      <th>18</th>\n      <td>on_my_way.wav</td>\n      <td>On My Way</td>\n      <td>Sabrina Carpenter, Alan Walker, Farruko</td>\n      <td>170</td>\n      <td>0.105</td>\n      <td>0.075</td>\n      <td>0.105</td>\n      <td>0.075</td>\n    </tr>\n    <tr>\n      <th>19</th>\n      <td>seven_nation_army.wav</td>\n      <td>Seven Nation Army</td>\n      <td>The White Stripes</td>\n      <td>124</td>\n      <td>0.241</td>\n      <td>0.459</td>\n      <td>0.142</td>\n      <td>0.203</td>\n    </tr>\n    <tr>\n      <th>20</th>\n      <td>shake_it_off.wav</td>\n      <td>Shake It Off</td>\n      <td>Taylor Swift</td>\n      <td>160</td>\n      <td>0.053</td>\n      <td>0.028</td>\n      <td>0.252</td>\n      <td>0.216</td>\n    </tr>\n    <tr>\n      <th>21</th>\n      <td>spark.wav</td>\n      <td>Spark</td>\n      <td>Vexento</td>\n      <td>117</td>\n      <td>0.012</td>\n      <td>0.510</td>\n      <td>0.014</td>\n      <td>0.509</td>\n    </tr>\n    <tr>\n      <th>22</th>\n      <td>stereo_hearts.wav</td>\n      <td>Stereo Hearts</td>\n      <td>Gym Class Heroes</td>\n      <td>90</td>\n      <td>0.356</td>\n      <td>0.333</td>\n      <td>0.355</td>\n      <td>0.335</td>\n    </tr>\n    <tr>\n      <th>23</th>\n      <td>temple_of_love.wav</td>\n      <td>Temple of Love</td>\n      <td>The Sisters of Mercy</td>\n      <td>166</td>\n      <td>0.165</td>\n      <td>0.143</td>\n      <td>0.167</td>\n      <td>0.139</td>\n    </tr>\n    <tr>\n      <th>24</th>\n      <td>thunder.wav</td>\n      <td>Thunder</td>\n      <td>Imagine Dragons</td>\n      <td>168</td>\n      <td>0.244</td>\n      <td>0.216</td>\n      <td>0.243</td>\n      <td>0.216</td>\n    </tr>\n    <tr>\n      <th>25</th>\n      <td>thunder2.wav</td>\n      <td>Thunder</td>\n      <td>Gabry Ponte, Prezioso, LUM!X</td>\n      <td>135</td>\n      <td>0.020</td>\n      <td>0.286</td>\n      <td>0.020</td>\n      <td>0.283</td>\n    </tr>\n    <tr>\n      <th>26</th>\n      <td>uptown_funk.wav</td>\n      <td>Uptown Funk</td>\n      <td>Mark Ronson, Bruno Mars</td>\n      <td>115</td>\n      <td>0.332</td>\n      <td>0.304</td>\n      <td>0.333</td>\n      <td>0.304</td>\n    </tr>\n    <tr>\n      <th>27</th>\n      <td>valhalla_calling_me.wav</td>\n      <td>Valhalla Calling Me</td>\n      <td>Miracle of Sound</td>\n      <td>152</td>\n      <td>0.224</td>\n      <td>0.201</td>\n      <td>0.233</td>\n      <td>0.198</td>\n    </tr>\n    <tr>\n      <th>28</th>\n      <td>we_will_rock_you.wav</td>\n      <td>We Will Rock You</td>\n      <td>Queen</td>\n      <td>81</td>\n      <td>0.484</td>\n      <td>0.175</td>\n      <td>0.580</td>\n      <td>0.176</td>\n    </tr>\n    <tr>\n      <th>29</th>\n      <td>without_you.wav</td>\n      <td>Without You</td>\n      <td>Avicii</td>\n      <td>134</td>\n      <td>0.078</td>\n      <td>0.060</td>\n      <td>0.076</td>\n      <td>0.066</td>\n    </tr>\n    <tr>\n      <th>30</th>\n      <td>ymca.wav</td>\n      <td>Y.M.C.A.</td>\n      <td>Village People</td>\n      <td>127</td>\n      <td>0.417</td>\n      <td>0.410</td>\n      <td>0.149</td>\n      <td>0.383</td>\n    </tr>\n  </tbody>\n</table>\n</div>"
     },
     "execution_count": 23,
     "metadata": {},
     "output_type": "execute_result"
    }
   ],
   "source": [
    "df = pd.DataFrame.from_dict(songs)\n",
    "df\n"
   ],
   "metadata": {
    "collapsed": false,
    "ExecuteTime": {
     "end_time": "2024-05-06T22:00:39.048982900Z",
     "start_time": "2024-05-06T22:00:39.024499600Z"
    }
   },
   "id": "55ae072b1a228800"
  },
  {
   "cell_type": "code",
   "execution_count": null,
   "outputs": [],
   "source": [],
   "metadata": {
    "collapsed": false
   },
   "id": "20936e7cdfa4ec1b"
  }
 ],
 "metadata": {
  "kernelspec": {
   "display_name": "Python 3",
   "language": "python",
   "name": "python3"
  },
  "language_info": {
   "codemirror_mode": {
    "name": "ipython",
    "version": 2
   },
   "file_extension": ".py",
   "mimetype": "text/x-python",
   "name": "python",
   "nbconvert_exporter": "python",
   "pygments_lexer": "ipython2",
   "version": "2.7.6"
  }
 },
 "nbformat": 4,
 "nbformat_minor": 5
}
