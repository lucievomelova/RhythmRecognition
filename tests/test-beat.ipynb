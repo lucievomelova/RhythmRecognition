{
 "cells": [
  {
   "cell_type": "markdown",
   "source": [
    "# Test beat tracking approaches\n",
    "Tests were done on 31 songs, information about them can be found in file `data.json`.\n",
    "For testing, methods from `detect.py` were used. \n",
    "\n",
    "Each generated file with beat track was then played to check if the beat track actually aligns with beats."
   ],
   "metadata": {
    "collapsed": false
   },
   "id": "33791f089df4c562"
  },
  {
   "cell_type": "code",
   "execution_count": 1,
   "outputs": [],
   "source": [
    "import json\n",
    "\n",
    "import numpy as np\n",
    "import pandas as pd\n",
    "from scipy.io import wavfile as wav\n",
    "import librosa\n",
    "import RhythmRecognition.detect\n",
    "from RhythmRecognition.constants import *\n",
    "\n",
    "import IPython.display as ipd\n",
    "\n",
    "f = open('data.json')\n",
    "songs = json.load(f)\n",
    "f.close()\n",
    "path = \"../audio_files/\"\n"
   ],
   "metadata": {
    "collapsed": false,
    "ExecuteTime": {
     "end_time": "2024-05-08T12:51:14.182450400Z",
     "start_time": "2024-05-08T12:51:13.226706800Z"
    }
   },
   "id": "initial_id"
  },
  {
   "cell_type": "code",
   "execution_count": 2,
   "outputs": [],
   "source": [
    "# method for creating a wav file with beat track\n",
    "def save(signal, beat_track, filename):\n",
    "    beat_track = librosa.clicks(times=beat_track, sr=SAMPLING_RATE, length=len(signal), hop_length=HOP_LENGTH)\n",
    "    combined = signal + beat_track\n",
    "    wav.write(filename, SAMPLING_RATE, combined.astype(signal.dtype))"
   ],
   "metadata": {
    "collapsed": false,
    "ExecuteTime": {
     "end_time": "2024-05-08T12:51:14.188462100Z",
     "start_time": "2024-05-08T12:51:14.182450400Z"
    }
   },
   "id": "68448e3487a0b93e"
  },
  {
   "cell_type": "markdown",
   "source": [
    "Beat track will be generated using known tempo (it will not be calculated using any of the tempogram methods) so we can be sure that the used tempo is correct. If the generated beat track will be bad, it will not be caused by an incorrectly calculated tempo."
   ],
   "metadata": {
    "collapsed": false
   },
   "id": "3d7b66dcf5569169"
  },
  {
   "cell_type": "code",
   "execution_count": 3,
   "outputs": [
    {
     "name": "stdout",
     "output_type": "stream",
     "text": [
      "0/31, 1/31, 2/31, 3/31, 4/31, 5/31, 6/31, 7/31, 8/31, 9/31, 10/31, 11/31, 12/31, 13/31, 14/31, 15/31, 16/31, 17/31, 18/31, 19/31, 20/31, 21/31, 22/31, 23/31, 24/31, 25/31, 26/31, 27/31, 28/31, 29/31, 30/31, "
     ]
    }
   ],
   "source": [
    "duration = 40  # how many seconds of the song should be loaded (this is just for faster run, we could definitely just load the whole song, but then the processing will take much longer)\n",
    "\n",
    "for i in range(len(songs)):\n",
    "    print(i, \"/\", len(songs), sep=\"\", end=\", \")\n",
    "    song = songs[i]\n",
    "    audiofile = path + song[\"filename\"]\n",
    "    \n",
    "    signal, _ = librosa.load(audiofile, duration=duration, sr=SAMPLING_RATE)  # load the audio file\n",
    "    \n",
    "    # generate and save beat track for score-based beat tracking over spectral novelty function\n",
    "    beat_track = RhythmRecognition.detect.beat_track(audiofile, bpm=song[\"tempo\"], approach=\"score\",novelty_approach=\"spectral\")\n",
    "    save(signal, beat_track, \"out/beat/score/spectral/\" + song[\"name\"] + str(i) +\".wav\")\n",
    "\n",
    "    # generate and save beat track for score-based beat tracking over energy novelty function\n",
    "    beat_track = RhythmRecognition.detect.beat_track(audiofile, bpm=song[\"tempo\"], approach=\"score\", novelty_approach=\"energy\")\n",
    "    save(signal, beat_track, \"out/beat/score/energy/\" + song[\"name\"] + str(i) +\".wav\")\n",
    "\n",
    "    # generate and save beat track for penalty-based beat tracking over spectral novelty function\n",
    "    beat_track = RhythmRecognition.detect.beat_track(audiofile, bpm=song[\"tempo\"], approach=\"penalty\", \n",
    "                                                     novelty_approach=\"spectral\")\n",
    "    save(signal, beat_track, \"out/beat/penalty/spectral/\" + song[\"name\"]+ str(i) +\".wav\")\n",
    "\n",
    "    # generate and save beat track for penalty-based beat tracking over energy novelty function\n",
    "    beat_track = RhythmRecognition.detect.beat_track(audiofile, bpm=song[\"tempo\"], approach=\"penalty\", \n",
    "                                                     novelty_approach=\"energy\")\n",
    "    save(signal, beat_track, \"out/beat/penalty/energy/\" + song[\"name\"] + str(i) +\".wav\")"
   ],
   "metadata": {
    "collapsed": false,
    "ExecuteTime": {
     "end_time": "2024-05-08T12:55:58.117665900Z",
     "start_time": "2024-05-08T12:51:14.189748600Z"
    }
   },
   "id": "1a1133df06be830b"
  },
  {
   "cell_type": "markdown",
   "source": [
    "### Beat tracking results\n",
    "After listening to all generated files, I gave each file one of the following three values:\n",
    "* **ok** - if the generated beat track aligned with beats\n",
    "* **half** - if the generated beat clicks were right in the middle of two actual beats, so the found time shift was exactly half of the correct beat time shift\n",
    "* *no** - if the beat track was completely wrong\n"
   ],
   "metadata": {
    "collapsed": false
   },
   "id": "c4a95604f08329ee"
  },
  {
   "cell_type": "code",
   "execution_count": 4,
   "outputs": [
    {
     "data": {
      "text/plain": "                         Name                Artist Score Penalty Score.1  \\\n0                      Africa                  Toto    no      no      no   \n1                       Alone            AlanWalker  half     yes    half   \n2            Around the World                   ATC  half    half    half   \n3                  Baby Shark              Pingfong   yes    half     yes   \n4              Beautiful Life           Ace of Base   yes     yes     yes   \n5                    Believer       Imagine Dragons   yes     yes     yes   \n6               Call Me Maybe      Carly Rae Jepsen   yes     yes     yes   \n7     Can't Stop the Feeling!     Justin Timberlake   yes     yes     yes   \n8                 Don't Speak              No Doubt   yes     yes     yes   \n9                  Evangeline         Matthew Sweet   yes      no     yes   \n10                      Faded           Alan Walker   yes     yes    half   \n11                   Firework            Katy Perry   yes     yes     yes   \n12             Hollaback Girl          Gwen Stefani   yes     yes     yes   \n13        I Ran (So Far Away)   A Flock Of Seagulls   yes     yes     yes   \n14         I'm Still Standing            Elton John   yes     yes     yes   \n15               It's My Life              Bon Jovi   yes     yes     yes   \n16  Love You Like a Love Song          Selena Gomez   yes     yes     yes   \n17                Mambo No. 5              Lou Bega   yes     yes     yes   \n18                  On My Way     Sabrina Carpenter   yes     yes     yes   \n19          Seven Nation Army     The White Stripes   yes      no      no   \n20               Shake It Off          Taylor Swift   yes      no     yes   \n21                      Spark               Vexento   yes     yes     yes   \n22              Stereo Hearts      Gym Class Heroes   yes     yes     yes   \n23             Temple of Love  The Sisters of Mercy   yes     yes     yes   \n24                    Thunder       Imagine Dragons   yes     yes     yes   \n25                    Thunder           Gabry Ponte  half    half     yes   \n26                Uptown Funk           Mark Ronson   yes     yes     yes   \n27        Valhalla Calling Me      Miracle of Sound   yes     yes     yes   \n28           We Will Rock You                 Queen  half    half      no   \n29                Without You                Avicii   yes     yes     yes   \n30                   Y.M.C.A.        Village People  half    half    half   \n\n   Penalty.1  \n0         no  \n1       half  \n2       half  \n3        yes  \n4       half  \n5        yes  \n6       half  \n7        yes  \n8        yes  \n9         no  \n10       yes  \n11      half  \n12       yes  \n13      half  \n14       yes  \n15       yes  \n16       yes  \n17       yes  \n18       yes  \n19      half  \n20      half  \n21       yes  \n22       yes  \n23       yes  \n24       yes  \n25       yes  \n26       yes  \n27       yes  \n28       yes  \n29       yes  \n30       yes  ",
      "text/html": "<div>\n<style scoped>\n    .dataframe tbody tr th:only-of-type {\n        vertical-align: middle;\n    }\n\n    .dataframe tbody tr th {\n        vertical-align: top;\n    }\n\n    .dataframe thead th {\n        text-align: right;\n    }\n</style>\n<table border=\"1\" class=\"dataframe\">\n  <thead>\n    <tr style=\"text-align: right;\">\n      <th></th>\n      <th>Name</th>\n      <th>Artist</th>\n      <th>Score</th>\n      <th>Penalty</th>\n      <th>Score.1</th>\n      <th>Penalty.1</th>\n    </tr>\n  </thead>\n  <tbody>\n    <tr>\n      <th>0</th>\n      <td>Africa</td>\n      <td>Toto</td>\n      <td>no</td>\n      <td>no</td>\n      <td>no</td>\n      <td>no</td>\n    </tr>\n    <tr>\n      <th>1</th>\n      <td>Alone</td>\n      <td>AlanWalker</td>\n      <td>half</td>\n      <td>yes</td>\n      <td>half</td>\n      <td>half</td>\n    </tr>\n    <tr>\n      <th>2</th>\n      <td>Around the World</td>\n      <td>ATC</td>\n      <td>half</td>\n      <td>half</td>\n      <td>half</td>\n      <td>half</td>\n    </tr>\n    <tr>\n      <th>3</th>\n      <td>Baby Shark</td>\n      <td>Pingfong</td>\n      <td>yes</td>\n      <td>half</td>\n      <td>yes</td>\n      <td>yes</td>\n    </tr>\n    <tr>\n      <th>4</th>\n      <td>Beautiful Life</td>\n      <td>Ace of Base</td>\n      <td>yes</td>\n      <td>yes</td>\n      <td>yes</td>\n      <td>half</td>\n    </tr>\n    <tr>\n      <th>5</th>\n      <td>Believer</td>\n      <td>Imagine Dragons</td>\n      <td>yes</td>\n      <td>yes</td>\n      <td>yes</td>\n      <td>yes</td>\n    </tr>\n    <tr>\n      <th>6</th>\n      <td>Call Me Maybe</td>\n      <td>Carly Rae Jepsen</td>\n      <td>yes</td>\n      <td>yes</td>\n      <td>yes</td>\n      <td>half</td>\n    </tr>\n    <tr>\n      <th>7</th>\n      <td>Can't Stop the Feeling!</td>\n      <td>Justin Timberlake</td>\n      <td>yes</td>\n      <td>yes</td>\n      <td>yes</td>\n      <td>yes</td>\n    </tr>\n    <tr>\n      <th>8</th>\n      <td>Don't Speak</td>\n      <td>No Doubt</td>\n      <td>yes</td>\n      <td>yes</td>\n      <td>yes</td>\n      <td>yes</td>\n    </tr>\n    <tr>\n      <th>9</th>\n      <td>Evangeline</td>\n      <td>Matthew Sweet</td>\n      <td>yes</td>\n      <td>no</td>\n      <td>yes</td>\n      <td>no</td>\n    </tr>\n    <tr>\n      <th>10</th>\n      <td>Faded</td>\n      <td>Alan Walker</td>\n      <td>yes</td>\n      <td>yes</td>\n      <td>half</td>\n      <td>yes</td>\n    </tr>\n    <tr>\n      <th>11</th>\n      <td>Firework</td>\n      <td>Katy Perry</td>\n      <td>yes</td>\n      <td>yes</td>\n      <td>yes</td>\n      <td>half</td>\n    </tr>\n    <tr>\n      <th>12</th>\n      <td>Hollaback Girl</td>\n      <td>Gwen Stefani</td>\n      <td>yes</td>\n      <td>yes</td>\n      <td>yes</td>\n      <td>yes</td>\n    </tr>\n    <tr>\n      <th>13</th>\n      <td>I Ran (So Far Away)</td>\n      <td>A Flock Of Seagulls</td>\n      <td>yes</td>\n      <td>yes</td>\n      <td>yes</td>\n      <td>half</td>\n    </tr>\n    <tr>\n      <th>14</th>\n      <td>I'm Still Standing</td>\n      <td>Elton John</td>\n      <td>yes</td>\n      <td>yes</td>\n      <td>yes</td>\n      <td>yes</td>\n    </tr>\n    <tr>\n      <th>15</th>\n      <td>It's My Life</td>\n      <td>Bon Jovi</td>\n      <td>yes</td>\n      <td>yes</td>\n      <td>yes</td>\n      <td>yes</td>\n    </tr>\n    <tr>\n      <th>16</th>\n      <td>Love You Like a Love Song</td>\n      <td>Selena Gomez</td>\n      <td>yes</td>\n      <td>yes</td>\n      <td>yes</td>\n      <td>yes</td>\n    </tr>\n    <tr>\n      <th>17</th>\n      <td>Mambo No. 5</td>\n      <td>Lou Bega</td>\n      <td>yes</td>\n      <td>yes</td>\n      <td>yes</td>\n      <td>yes</td>\n    </tr>\n    <tr>\n      <th>18</th>\n      <td>On My Way</td>\n      <td>Sabrina Carpenter</td>\n      <td>yes</td>\n      <td>yes</td>\n      <td>yes</td>\n      <td>yes</td>\n    </tr>\n    <tr>\n      <th>19</th>\n      <td>Seven Nation Army</td>\n      <td>The White Stripes</td>\n      <td>yes</td>\n      <td>no</td>\n      <td>no</td>\n      <td>half</td>\n    </tr>\n    <tr>\n      <th>20</th>\n      <td>Shake It Off</td>\n      <td>Taylor Swift</td>\n      <td>yes</td>\n      <td>no</td>\n      <td>yes</td>\n      <td>half</td>\n    </tr>\n    <tr>\n      <th>21</th>\n      <td>Spark</td>\n      <td>Vexento</td>\n      <td>yes</td>\n      <td>yes</td>\n      <td>yes</td>\n      <td>yes</td>\n    </tr>\n    <tr>\n      <th>22</th>\n      <td>Stereo Hearts</td>\n      <td>Gym Class Heroes</td>\n      <td>yes</td>\n      <td>yes</td>\n      <td>yes</td>\n      <td>yes</td>\n    </tr>\n    <tr>\n      <th>23</th>\n      <td>Temple of Love</td>\n      <td>The Sisters of Mercy</td>\n      <td>yes</td>\n      <td>yes</td>\n      <td>yes</td>\n      <td>yes</td>\n    </tr>\n    <tr>\n      <th>24</th>\n      <td>Thunder</td>\n      <td>Imagine Dragons</td>\n      <td>yes</td>\n      <td>yes</td>\n      <td>yes</td>\n      <td>yes</td>\n    </tr>\n    <tr>\n      <th>25</th>\n      <td>Thunder</td>\n      <td>Gabry Ponte</td>\n      <td>half</td>\n      <td>half</td>\n      <td>yes</td>\n      <td>yes</td>\n    </tr>\n    <tr>\n      <th>26</th>\n      <td>Uptown Funk</td>\n      <td>Mark Ronson</td>\n      <td>yes</td>\n      <td>yes</td>\n      <td>yes</td>\n      <td>yes</td>\n    </tr>\n    <tr>\n      <th>27</th>\n      <td>Valhalla Calling Me</td>\n      <td>Miracle of Sound</td>\n      <td>yes</td>\n      <td>yes</td>\n      <td>yes</td>\n      <td>yes</td>\n    </tr>\n    <tr>\n      <th>28</th>\n      <td>We Will Rock You</td>\n      <td>Queen</td>\n      <td>half</td>\n      <td>half</td>\n      <td>no</td>\n      <td>yes</td>\n    </tr>\n    <tr>\n      <th>29</th>\n      <td>Without You</td>\n      <td>Avicii</td>\n      <td>yes</td>\n      <td>yes</td>\n      <td>yes</td>\n      <td>yes</td>\n    </tr>\n    <tr>\n      <th>30</th>\n      <td>Y.M.C.A.</td>\n      <td>Village People</td>\n      <td>half</td>\n      <td>half</td>\n      <td>half</td>\n      <td>yes</td>\n    </tr>\n  </tbody>\n</table>\n</div>"
     },
     "execution_count": 4,
     "metadata": {},
     "output_type": "execute_result"
    }
   ],
   "source": [
    "beat_df = pd.read_csv(\"beat_results.csv\")\n",
    "beat_df"
   ],
   "metadata": {
    "collapsed": false,
    "ExecuteTime": {
     "end_time": "2024-05-08T12:55:58.143045700Z",
     "start_time": "2024-05-08T12:55:58.117665900Z"
    }
   },
   "id": "b9546c09fdea3bbf"
  },
  {
   "cell_type": "code",
   "execution_count": 5,
   "outputs": [
    {
     "name": "stdout",
     "output_type": "stream",
     "text": [
      "0/31, 1/31, 2/31, 3/31, 4/31, 5/31, 6/31, 7/31, 8/31, 9/31, 10/31, 11/31, 12/31, 13/31, 14/31, 15/31, 16/31, 17/31, 18/31, 19/31, 20/31, 21/31, 22/31, 23/31, 24/31, 25/31, 26/31, 27/31, 28/31, 29/31, 30/31, "
     ]
    }
   ],
   "source": [
    "for i in range(len(songs)):\n",
    "    print(i, \"/\", len(songs), sep=\"\", end=\", \")\n",
    "    song = songs[i]\n",
    "    audiofile = path + song[\"filename\"]\n",
    "    \n",
    "    signal, _ = librosa.load(audiofile, duration=duration, sr=SAMPLING_RATE)  # load the audio file\n",
    "    \n",
    "    # generate and save beat track for score-based beat tracking over spectral novelty function\n",
    "\n",
    "    song[\"score-energy\"] = RhythmRecognition.detect.beat_time_shift(audiofile, bpm=song[\"tempo\"], approach=\"score\", novelty_approach=\"energy\")\n",
    "\n",
    "    song[\"penalty-energy\"] = RhythmRecognition.detect.beat_time_shift(audiofile, bpm=song[\"tempo\"], approach=\"penalty\", \n",
    "                                                     novelty_approach=\"energy\")\n",
    "    song[\"score-spectral\"] = RhythmRecognition.detect.beat_time_shift(audiofile, bpm=song[\"tempo\"], approach=\"score\",novelty_approach=\"spectral\")\n",
    "    song[\"penalty-spectral\"] = RhythmRecognition.detect.beat_time_shift(audiofile, bpm=song[\"tempo\"], approach=\"penalty\", \n",
    "                                                     novelty_approach=\"spectral\")\n",
    "\n"
   ],
   "metadata": {
    "collapsed": false,
    "ExecuteTime": {
     "end_time": "2024-05-08T13:00:44.131141700Z",
     "start_time": "2024-05-08T12:55:58.145627400Z"
    }
   },
   "id": "33bb1ea8f491dbce"
  },
  {
   "cell_type": "code",
   "execution_count": 6,
   "outputs": [
    {
     "data": {
      "text/plain": "                         filename                       name  \\\n0                       alone.wav                      Alone   \n1            around_the_world.wav           Around the World   \n2                  baby_shark.wav                 Baby Shark   \n3              beautiful_life.wav             Beautiful Life   \n4                    believer.wav                   Believer   \n5               call_me_maybe.wav              Call Me Maybe   \n6       cant_stop_the_feeling.wav    Can't Stop the Feeling!   \n7                  dont_speak.wav                Don't Speak   \n8                       faded.wav                      Faded   \n9                  fight_song.wav                 Fight Song   \n10                   firework.wav                   Firework   \n11             hollaback_girl.wav             Hollaback Girl   \n12          im_still_standing.wav         I'm Still Standing   \n13                its_my_life.wav               It's My Life   \n14  love_you_like_a_love_song.wav  Love You Like a Love Song   \n15                 mambo_no_5.wav                Mambo No. 5   \n16                  on_my_way.wav                  On My Way   \n17          seven_nation_army.wav          Seven Nation Army   \n18               shake_it_off.wav               Shake It Off   \n19               shape_of_you.wav               Shape of You   \n20                      spark.wav                      Spark   \n21              stereo_hearts.wav              Stereo Hearts   \n22             temple_of_love.wav             Temple of Love   \n23                 the_nights.wav                 The Nights   \n24                    thunder.wav                    Thunder   \n25                   thunder2.wav                    Thunder   \n26                uptown_funk.wav                Uptown Funk   \n27        valhalla_calling_me.wav        Valhalla Calling Me   \n28           we_will_rock_you.wav           We Will Rock You   \n29                without_you.wav                Without You   \n30                       ymca.wav                   Y.M.C.A.   \n\n                                     artist  tempo  score-energy  \\\n0                               Alan Walker     97         0.185   \n1                                       ATC    132         0.401   \n2                                  Pinkfong    115         0.290   \n3                               Ace of Base    135         0.066   \n4                           Imagine Dragons    125         0.403   \n5                          Carly Rae Jepsen    120         0.239   \n6                         Justin Timberlake    113         0.386   \n7                                  No Doubt     76         0.027   \n8                               Alan Walker     90         0.513   \n9                            Rachel Platten    176         0.152   \n10                               Katy Perry    124         0.397   \n11                             Gwen Stefani    110         0.307   \n12                               Elton John    177         0.124   \n13                                 Bon Jovi    120         0.215   \n14                             Selena Gomez    117         0.072   \n15                                 Lou Bega    174         0.074   \n16  Sabrina Carpenter, Alan Walker, Farruko    170         0.075   \n17                        The White Stripes    124         0.459   \n18                             Taylor Swift    160         0.028   \n19                               Ed Sheeran     96         0.150   \n20                                  Vexento    117         0.510   \n21                         Gym Class Heroes     90         0.333   \n22                     The Sisters of Mercy    166         0.143   \n23                                   Avicii    126         0.066   \n24                          Imagine Dragons    168         0.216   \n25             Gabry Ponte, Prezioso, LUM!X    135         0.286   \n26                  Mark Ronson, Bruno Mars    115         0.304   \n27                         Miracle of Sound    152         0.201   \n28                                    Queen     81         0.175   \n29                                   Avicii    134         0.060   \n30                           Village People    127         0.410   \n\n    penalty-energy  score-spectral  penalty-spectral  \n0            0.495           0.213             0.213  \n1            0.404           0.423             0.425  \n2            0.042           0.321             0.322  \n3            0.061           0.090             0.308  \n4            0.431           0.429             0.432  \n5            0.237           0.263             0.018  \n6            0.391           0.413             0.417  \n7            0.036           0.050             0.059  \n8            0.511           0.533             0.530  \n9            0.151           0.176             0.177  \n10           0.396           0.407             0.176  \n11           0.306           0.339             0.335  \n12           0.077           0.138             0.086  \n13           0.217           0.247             0.247  \n14           0.067           0.099             0.098  \n15           0.110           0.124             0.122  \n16           0.075           0.105             0.105  \n17           0.203           0.241             0.142  \n18           0.216           0.053             0.252  \n19           0.146           0.487             0.322  \n20           0.509           0.012             0.014  \n21           0.335           0.356             0.355  \n22           0.139           0.165             0.167  \n23           0.064           0.328             0.330  \n24           0.216           0.244             0.243  \n25           0.283           0.020             0.020  \n26           0.304           0.332             0.333  \n27           0.198           0.224             0.233  \n28           0.176           0.484             0.580  \n29           0.066           0.078             0.076  \n30           0.383           0.417             0.149  ",
      "text/html": "<div>\n<style scoped>\n    .dataframe tbody tr th:only-of-type {\n        vertical-align: middle;\n    }\n\n    .dataframe tbody tr th {\n        vertical-align: top;\n    }\n\n    .dataframe thead th {\n        text-align: right;\n    }\n</style>\n<table border=\"1\" class=\"dataframe\">\n  <thead>\n    <tr style=\"text-align: right;\">\n      <th></th>\n      <th>filename</th>\n      <th>name</th>\n      <th>artist</th>\n      <th>tempo</th>\n      <th>score-energy</th>\n      <th>penalty-energy</th>\n      <th>score-spectral</th>\n      <th>penalty-spectral</th>\n    </tr>\n  </thead>\n  <tbody>\n    <tr>\n      <th>0</th>\n      <td>alone.wav</td>\n      <td>Alone</td>\n      <td>Alan Walker</td>\n      <td>97</td>\n      <td>0.185</td>\n      <td>0.495</td>\n      <td>0.213</td>\n      <td>0.213</td>\n    </tr>\n    <tr>\n      <th>1</th>\n      <td>around_the_world.wav</td>\n      <td>Around the World</td>\n      <td>ATC</td>\n      <td>132</td>\n      <td>0.401</td>\n      <td>0.404</td>\n      <td>0.423</td>\n      <td>0.425</td>\n    </tr>\n    <tr>\n      <th>2</th>\n      <td>baby_shark.wav</td>\n      <td>Baby Shark</td>\n      <td>Pinkfong</td>\n      <td>115</td>\n      <td>0.290</td>\n      <td>0.042</td>\n      <td>0.321</td>\n      <td>0.322</td>\n    </tr>\n    <tr>\n      <th>3</th>\n      <td>beautiful_life.wav</td>\n      <td>Beautiful Life</td>\n      <td>Ace of Base</td>\n      <td>135</td>\n      <td>0.066</td>\n      <td>0.061</td>\n      <td>0.090</td>\n      <td>0.308</td>\n    </tr>\n    <tr>\n      <th>4</th>\n      <td>believer.wav</td>\n      <td>Believer</td>\n      <td>Imagine Dragons</td>\n      <td>125</td>\n      <td>0.403</td>\n      <td>0.431</td>\n      <td>0.429</td>\n      <td>0.432</td>\n    </tr>\n    <tr>\n      <th>5</th>\n      <td>call_me_maybe.wav</td>\n      <td>Call Me Maybe</td>\n      <td>Carly Rae Jepsen</td>\n      <td>120</td>\n      <td>0.239</td>\n      <td>0.237</td>\n      <td>0.263</td>\n      <td>0.018</td>\n    </tr>\n    <tr>\n      <th>6</th>\n      <td>cant_stop_the_feeling.wav</td>\n      <td>Can't Stop the Feeling!</td>\n      <td>Justin Timberlake</td>\n      <td>113</td>\n      <td>0.386</td>\n      <td>0.391</td>\n      <td>0.413</td>\n      <td>0.417</td>\n    </tr>\n    <tr>\n      <th>7</th>\n      <td>dont_speak.wav</td>\n      <td>Don't Speak</td>\n      <td>No Doubt</td>\n      <td>76</td>\n      <td>0.027</td>\n      <td>0.036</td>\n      <td>0.050</td>\n      <td>0.059</td>\n    </tr>\n    <tr>\n      <th>8</th>\n      <td>faded.wav</td>\n      <td>Faded</td>\n      <td>Alan Walker</td>\n      <td>90</td>\n      <td>0.513</td>\n      <td>0.511</td>\n      <td>0.533</td>\n      <td>0.530</td>\n    </tr>\n    <tr>\n      <th>9</th>\n      <td>fight_song.wav</td>\n      <td>Fight Song</td>\n      <td>Rachel Platten</td>\n      <td>176</td>\n      <td>0.152</td>\n      <td>0.151</td>\n      <td>0.176</td>\n      <td>0.177</td>\n    </tr>\n    <tr>\n      <th>10</th>\n      <td>firework.wav</td>\n      <td>Firework</td>\n      <td>Katy Perry</td>\n      <td>124</td>\n      <td>0.397</td>\n      <td>0.396</td>\n      <td>0.407</td>\n      <td>0.176</td>\n    </tr>\n    <tr>\n      <th>11</th>\n      <td>hollaback_girl.wav</td>\n      <td>Hollaback Girl</td>\n      <td>Gwen Stefani</td>\n      <td>110</td>\n      <td>0.307</td>\n      <td>0.306</td>\n      <td>0.339</td>\n      <td>0.335</td>\n    </tr>\n    <tr>\n      <th>12</th>\n      <td>im_still_standing.wav</td>\n      <td>I'm Still Standing</td>\n      <td>Elton John</td>\n      <td>177</td>\n      <td>0.124</td>\n      <td>0.077</td>\n      <td>0.138</td>\n      <td>0.086</td>\n    </tr>\n    <tr>\n      <th>13</th>\n      <td>its_my_life.wav</td>\n      <td>It's My Life</td>\n      <td>Bon Jovi</td>\n      <td>120</td>\n      <td>0.215</td>\n      <td>0.217</td>\n      <td>0.247</td>\n      <td>0.247</td>\n    </tr>\n    <tr>\n      <th>14</th>\n      <td>love_you_like_a_love_song.wav</td>\n      <td>Love You Like a Love Song</td>\n      <td>Selena Gomez</td>\n      <td>117</td>\n      <td>0.072</td>\n      <td>0.067</td>\n      <td>0.099</td>\n      <td>0.098</td>\n    </tr>\n    <tr>\n      <th>15</th>\n      <td>mambo_no_5.wav</td>\n      <td>Mambo No. 5</td>\n      <td>Lou Bega</td>\n      <td>174</td>\n      <td>0.074</td>\n      <td>0.110</td>\n      <td>0.124</td>\n      <td>0.122</td>\n    </tr>\n    <tr>\n      <th>16</th>\n      <td>on_my_way.wav</td>\n      <td>On My Way</td>\n      <td>Sabrina Carpenter, Alan Walker, Farruko</td>\n      <td>170</td>\n      <td>0.075</td>\n      <td>0.075</td>\n      <td>0.105</td>\n      <td>0.105</td>\n    </tr>\n    <tr>\n      <th>17</th>\n      <td>seven_nation_army.wav</td>\n      <td>Seven Nation Army</td>\n      <td>The White Stripes</td>\n      <td>124</td>\n      <td>0.459</td>\n      <td>0.203</td>\n      <td>0.241</td>\n      <td>0.142</td>\n    </tr>\n    <tr>\n      <th>18</th>\n      <td>shake_it_off.wav</td>\n      <td>Shake It Off</td>\n      <td>Taylor Swift</td>\n      <td>160</td>\n      <td>0.028</td>\n      <td>0.216</td>\n      <td>0.053</td>\n      <td>0.252</td>\n    </tr>\n    <tr>\n      <th>19</th>\n      <td>shape_of_you.wav</td>\n      <td>Shape of You</td>\n      <td>Ed Sheeran</td>\n      <td>96</td>\n      <td>0.150</td>\n      <td>0.146</td>\n      <td>0.487</td>\n      <td>0.322</td>\n    </tr>\n    <tr>\n      <th>20</th>\n      <td>spark.wav</td>\n      <td>Spark</td>\n      <td>Vexento</td>\n      <td>117</td>\n      <td>0.510</td>\n      <td>0.509</td>\n      <td>0.012</td>\n      <td>0.014</td>\n    </tr>\n    <tr>\n      <th>21</th>\n      <td>stereo_hearts.wav</td>\n      <td>Stereo Hearts</td>\n      <td>Gym Class Heroes</td>\n      <td>90</td>\n      <td>0.333</td>\n      <td>0.335</td>\n      <td>0.356</td>\n      <td>0.355</td>\n    </tr>\n    <tr>\n      <th>22</th>\n      <td>temple_of_love.wav</td>\n      <td>Temple of Love</td>\n      <td>The Sisters of Mercy</td>\n      <td>166</td>\n      <td>0.143</td>\n      <td>0.139</td>\n      <td>0.165</td>\n      <td>0.167</td>\n    </tr>\n    <tr>\n      <th>23</th>\n      <td>the_nights.wav</td>\n      <td>The Nights</td>\n      <td>Avicii</td>\n      <td>126</td>\n      <td>0.066</td>\n      <td>0.064</td>\n      <td>0.328</td>\n      <td>0.330</td>\n    </tr>\n    <tr>\n      <th>24</th>\n      <td>thunder.wav</td>\n      <td>Thunder</td>\n      <td>Imagine Dragons</td>\n      <td>168</td>\n      <td>0.216</td>\n      <td>0.216</td>\n      <td>0.244</td>\n      <td>0.243</td>\n    </tr>\n    <tr>\n      <th>25</th>\n      <td>thunder2.wav</td>\n      <td>Thunder</td>\n      <td>Gabry Ponte, Prezioso, LUM!X</td>\n      <td>135</td>\n      <td>0.286</td>\n      <td>0.283</td>\n      <td>0.020</td>\n      <td>0.020</td>\n    </tr>\n    <tr>\n      <th>26</th>\n      <td>uptown_funk.wav</td>\n      <td>Uptown Funk</td>\n      <td>Mark Ronson, Bruno Mars</td>\n      <td>115</td>\n      <td>0.304</td>\n      <td>0.304</td>\n      <td>0.332</td>\n      <td>0.333</td>\n    </tr>\n    <tr>\n      <th>27</th>\n      <td>valhalla_calling_me.wav</td>\n      <td>Valhalla Calling Me</td>\n      <td>Miracle of Sound</td>\n      <td>152</td>\n      <td>0.201</td>\n      <td>0.198</td>\n      <td>0.224</td>\n      <td>0.233</td>\n    </tr>\n    <tr>\n      <th>28</th>\n      <td>we_will_rock_you.wav</td>\n      <td>We Will Rock You</td>\n      <td>Queen</td>\n      <td>81</td>\n      <td>0.175</td>\n      <td>0.176</td>\n      <td>0.484</td>\n      <td>0.580</td>\n    </tr>\n    <tr>\n      <th>29</th>\n      <td>without_you.wav</td>\n      <td>Without You</td>\n      <td>Avicii</td>\n      <td>134</td>\n      <td>0.060</td>\n      <td>0.066</td>\n      <td>0.078</td>\n      <td>0.076</td>\n    </tr>\n    <tr>\n      <th>30</th>\n      <td>ymca.wav</td>\n      <td>Y.M.C.A.</td>\n      <td>Village People</td>\n      <td>127</td>\n      <td>0.410</td>\n      <td>0.383</td>\n      <td>0.417</td>\n      <td>0.149</td>\n    </tr>\n  </tbody>\n</table>\n</div>"
     },
     "execution_count": 6,
     "metadata": {},
     "output_type": "execute_result"
    }
   ],
   "source": [
    "df = pd.DataFrame.from_dict(songs)\n",
    "df\n"
   ],
   "metadata": {
    "collapsed": false,
    "ExecuteTime": {
     "end_time": "2024-05-08T13:00:44.147791300Z",
     "start_time": "2024-05-08T13:00:44.131141700Z"
    }
   },
   "id": "55ae072b1a228800"
  },
  {
   "cell_type": "code",
   "execution_count": 6,
   "outputs": [],
   "source": [],
   "metadata": {
    "collapsed": false,
    "ExecuteTime": {
     "end_time": "2024-05-08T13:00:44.147791300Z",
     "start_time": "2024-05-08T13:00:44.147791300Z"
    }
   },
   "id": "20936e7cdfa4ec1b"
  }
 ],
 "metadata": {
  "kernelspec": {
   "display_name": "Python 3",
   "language": "python",
   "name": "python3"
  },
  "language_info": {
   "codemirror_mode": {
    "name": "ipython",
    "version": 2
   },
   "file_extension": ".py",
   "mimetype": "text/x-python",
   "name": "python",
   "nbconvert_exporter": "python",
   "pygments_lexer": "ipython2",
   "version": "2.7.6"
  }
 },
 "nbformat": 4,
 "nbformat_minor": 5
}
