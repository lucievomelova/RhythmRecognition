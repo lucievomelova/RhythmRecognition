{
 "cells": [
  {
   "cell_type": "markdown",
   "source": [
    "# Test beat tracking approaches\n",
    "Tests were done on 31 songs, information about them can be found in file `data.json`.\n",
    "For testing, methods from `detect.py` were used. \n",
    "\n",
    "Each generated file with beat track was then played to check if the beat track actually aligns with beats."
   ],
   "metadata": {
    "collapsed": false
   },
   "id": "33791f089df4c562"
  },
  {
   "cell_type": "code",
   "execution_count": 1,
   "outputs": [],
   "source": [
    "import json\n",
    "\n",
    "import numpy as np\n",
    "import pandas as pd\n",
    "from scipy.io import wavfile as wav\n",
    "import librosa\n",
    "import RhythmRecognition.detect\n",
    "from RhythmRecognition.constants import *\n",
    "\n",
    "import IPython.display as ipd\n",
    "\n",
    "f = open('data.json')\n",
    "songs = json.load(f)\n",
    "f.close()\n",
    "path = \"../audio_files/\"\n"
   ],
   "metadata": {
    "collapsed": false,
    "ExecuteTime": {
     "end_time": "2024-05-08T12:51:14.182450400Z",
     "start_time": "2024-05-08T12:51:13.226706800Z"
    }
   },
   "id": "initial_id"
  },
  {
   "cell_type": "code",
   "execution_count": 2,
   "outputs": [],
   "source": [
    "# method for creating a wav file with beat track\n",
    "def save(signal, beat_track, filename):\n",
    "    beat_track = librosa.clicks(times=beat_track, sr=SAMPLING_RATE, length=len(signal), hop_length=HOP_LENGTH)\n",
    "    combined = signal + beat_track\n",
    "    wav.write(filename, SAMPLING_RATE, combined.astype(signal.dtype))"
   ],
   "metadata": {
    "collapsed": false,
    "ExecuteTime": {
     "end_time": "2024-05-08T12:51:14.188462100Z",
     "start_time": "2024-05-08T12:51:14.182450400Z"
    }
   },
   "id": "68448e3487a0b93e"
  },
  {
   "cell_type": "markdown",
   "source": [
    "Beat track will be generated using known tempo (it will not be calculated using any of the tempogram methods) so we can be sure that the used tempo is correct. If the generated beat track will be bad, it will not be caused by an incorrectly calculated tempo."
   ],
   "metadata": {
    "collapsed": false
   },
   "id": "3d7b66dcf5569169"
  },
  {
   "cell_type": "code",
   "execution_count": 3,
   "outputs": [
    {
     "name": "stdout",
     "output_type": "stream",
     "text": [
      "0/31, 1/31, 2/31, 3/31, 4/31, 5/31, 6/31, 7/31, 8/31, 9/31, 10/31, 11/31, 12/31, 13/31, 14/31, 15/31, 16/31, 17/31, 18/31, 19/31, 20/31, 21/31, 22/31, 23/31, 24/31, 25/31, 26/31, 27/31, 28/31, 29/31, 30/31, "
     ]
    }
   ],
   "source": [
    "duration = 40  # how many seconds of the song should be loaded (this is just for faster run, we could definitely just load the whole song, but then the processing will take much longer)\n",
    "\n",
    "for i in range(len(songs)):\n",
    "    print(i, \"/\", len(songs), sep=\"\", end=\", \")\n",
    "    song = songs[i]\n",
    "    audiofile = path + song[\"filename\"]\n",
    "    \n",
    "    signal, _ = librosa.load(audiofile, duration=duration, sr=SAMPLING_RATE)  # load the audio file\n",
    "    \n",
    "    # generate and save beat track for score-based beat tracking over spectral novelty function\n",
    "    beat_track = RhythmRecognition.detect.beat_track(audiofile, bpm=song[\"tempo\"], approach=\"score\",novelty_approach=\"spectral\")\n",
    "    save(signal, beat_track, \"out/beat/score/spectral/\" + song[\"name\"] + str(i) +\".wav\")\n",
    "\n",
    "    # generate and save beat track for score-based beat tracking over energy novelty function\n",
    "    beat_track = RhythmRecognition.detect.beat_track(audiofile, bpm=song[\"tempo\"], approach=\"score\", novelty_approach=\"energy\")\n",
    "    save(signal, beat_track, \"out/beat/score/energy/\" + song[\"name\"] + str(i) +\".wav\")\n",
    "\n",
    "    # generate and save beat track for penalty-based beat tracking over spectral novelty function\n",
    "    beat_track = RhythmRecognition.detect.beat_track(audiofile, bpm=song[\"tempo\"], approach=\"penalty\", \n",
    "                                                     novelty_approach=\"spectral\")\n",
    "    save(signal, beat_track, \"out/beat/penalty/spectral/\" + song[\"name\"]+ str(i) +\".wav\")\n",
    "\n",
    "    # generate and save beat track for penalty-based beat tracking over energy novelty function\n",
    "    beat_track = RhythmRecognition.detect.beat_track(audiofile, bpm=song[\"tempo\"], approach=\"penalty\", \n",
    "                                                     novelty_approach=\"energy\")\n",
    "    save(signal, beat_track, \"out/beat/penalty/energy/\" + song[\"name\"] + str(i) +\".wav\")"
   ],
   "metadata": {
    "collapsed": false,
    "ExecuteTime": {
     "end_time": "2024-05-08T12:55:58.117665900Z",
     "start_time": "2024-05-08T12:51:14.189748600Z"
    }
   },
   "id": "1a1133df06be830b"
  },
  {
   "cell_type": "markdown",
   "source": [
    "### Beat tracking results\n",
    "After listening to all generated files, I gave each file one of the following three values:\n",
    "* **ok** - if the generated beat track aligned with beats\n",
    "* **half** - if the generated beat clicks were right in the middle of two actual beats, so the found time shift was exactly half of the correct beat time shift\n",
    "* *no** - if the beat track was completely wrong\n"
   ],
   "metadata": {
    "collapsed": false
   },
   "id": "c4a95604f08329ee"
  },
  {
   "cell_type": "code",
   "execution_count": 4,
   "outputs": [
    {
     "data": {
      "text/plain": "                         Name                Artist Score Penalty Score.1  \\\n0                      Africa                  Toto    no      no      no   \n1                       Alone            AlanWalker  half     yes    half   \n2            Around the World                   ATC  half    half    half   \n3                  Baby Shark              Pingfong   yes    half     yes   \n4              Beautiful Life           Ace of Base   yes     yes     yes   \n5                    Believer       Imagine Dragons   yes     yes     yes   \n6               Call Me Maybe      Carly Rae Jepsen   yes     yes     yes   \n7     Can't Stop the Feeling!     Justin Timberlake   yes     yes     yes   \n8                 Don't Speak              No Doubt   yes     yes     yes   \n9                  Evangeline         Matthew Sweet   yes      no     yes   \n10                      Faded           Alan Walker   yes     yes    half   \n11                   Firework            Katy Perry   yes     yes     yes   \n12             Hollaback Girl          Gwen Stefani   yes     yes     yes   \n13        I Ran (So Far Away)   A Flock Of Seagulls   yes     yes     yes   \n14         I'm Still Standing            Elton John   yes     yes     yes   \n15               It's My Life              Bon Jovi   yes     yes     yes   \n16  Love You Like a Love Song          Selena Gomez   yes     yes     yes   \n17                Mambo No. 5              Lou Bega   yes     yes     yes   \n18                  On My Way     Sabrina Carpenter   yes     yes     yes   \n19          Seven Nation Army     The White Stripes   yes      no      no   \n20               Shake It Off          Taylor Swift   yes      no     yes   \n21                      Spark               Vexento   yes     yes     yes   \n22              Stereo Hearts      Gym Class Heroes   yes     yes     yes   \n23             Temple of Love  The Sisters of Mercy   yes     yes     yes   \n24                    Thunder       Imagine Dragons   yes     yes     yes   \n25                    Thunder           Gabry Ponte  half    half     yes   \n26                Uptown Funk           Mark Ronson   yes     yes     yes   \n27        Valhalla Calling Me      Miracle of Sound   yes     yes     yes   \n28           We Will Rock You                 Queen  half    half      no   \n29                Without You                Avicii   yes     yes     yes   \n30                   Y.M.C.A.        Village People  half    half    half   \n\n   Penalty.1  \n0         no  \n1       half  \n2       half  \n3        yes  \n4       half  \n5        yes  \n6       half  \n7        yes  \n8        yes  \n9         no  \n10       yes  \n11      half  \n12       yes  \n13      half  \n14       yes  \n15       yes  \n16       yes  \n17       yes  \n18       yes  \n19      half  \n20      half  \n21       yes  \n22       yes  \n23       yes  \n24       yes  \n25       yes  \n26       yes  \n27       yes  \n28       yes  \n29       yes  \n30       yes  ",
      "text/html": "<div>\n<style scoped>\n    .dataframe tbody tr th:only-of-type {\n        vertical-align: middle;\n    }\n\n    .dataframe tbody tr th {\n        vertical-align: top;\n    }\n\n    .dataframe thead th {\n        text-align: right;\n    }\n</style>\n<table border=\"1\" class=\"dataframe\">\n  <thead>\n    <tr style=\"text-align: right;\">\n      <th></th>\n      <th>Name</th>\n      <th>Artist</th>\n      <th>Score</th>\n      <th>Penalty</th>\n      <th>Score.1</th>\n      <th>Penalty.1</th>\n    </tr>\n  </thead>\n  <tbody>\n    <tr>\n      <th>0</th>\n      <td>Africa</td>\n      <td>Toto</td>\n      <td>no</td>\n      <td>no</td>\n      <td>no</td>\n      <td>no</td>\n    </tr>\n    <tr>\n      <th>1</th>\n      <td>Alone</td>\n      <td>AlanWalker</td>\n      <td>half</td>\n      <td>yes</td>\n      <td>half</td>\n      <td>half</td>\n    </tr>\n    <tr>\n      <th>2</th>\n      <td>Around the World</td>\n      <td>ATC</td>\n      <td>half</td>\n      <td>half</td>\n      <td>half</td>\n      <td>half</td>\n    </tr>\n    <tr>\n      <th>3</th>\n      <td>Baby Shark</td>\n      <td>Pingfong</td>\n      <td>yes</td>\n      <td>half</td>\n      <td>yes</td>\n      <td>yes</td>\n    </tr>\n    <tr>\n      <th>4</th>\n      <td>Beautiful Life</td>\n      <td>Ace of Base</td>\n      <td>yes</td>\n      <td>yes</td>\n      <td>yes</td>\n      <td>half</td>\n    </tr>\n    <tr>\n      <th>5</th>\n      <td>Believer</td>\n      <td>Imagine Dragons</td>\n      <td>yes</td>\n      <td>yes</td>\n      <td>yes</td>\n      <td>yes</td>\n    </tr>\n    <tr>\n      <th>6</th>\n      <td>Call Me Maybe</td>\n      <td>Carly Rae Jepsen</td>\n      <td>yes</td>\n      <td>yes</td>\n      <td>yes</td>\n      <td>half</td>\n    </tr>\n    <tr>\n      <th>7</th>\n      <td>Can't Stop the Feeling!</td>\n      <td>Justin Timberlake</td>\n      <td>yes</td>\n      <td>yes</td>\n      <td>yes</td>\n      <td>yes</td>\n    </tr>\n    <tr>\n      <th>8</th>\n      <td>Don't Speak</td>\n      <td>No Doubt</td>\n      <td>yes</td>\n      <td>yes</td>\n      <td>yes</td>\n      <td>yes</td>\n    </tr>\n    <tr>\n      <th>9</th>\n      <td>Evangeline</td>\n      <td>Matthew Sweet</td>\n      <td>yes</td>\n      <td>no</td>\n      <td>yes</td>\n      <td>no</td>\n    </tr>\n    <tr>\n      <th>10</th>\n      <td>Faded</td>\n      <td>Alan Walker</td>\n      <td>yes</td>\n      <td>yes</td>\n      <td>half</td>\n      <td>yes</td>\n    </tr>\n    <tr>\n      <th>11</th>\n      <td>Firework</td>\n      <td>Katy Perry</td>\n      <td>yes</td>\n      <td>yes</td>\n      <td>yes</td>\n      <td>half</td>\n    </tr>\n    <tr>\n      <th>12</th>\n      <td>Hollaback Girl</td>\n      <td>Gwen Stefani</td>\n      <td>yes</td>\n      <td>yes</td>\n      <td>yes</td>\n      <td>yes</td>\n    </tr>\n    <tr>\n      <th>13</th>\n      <td>I Ran (So Far Away)</td>\n      <td>A Flock Of Seagulls</td>\n      <td>yes</td>\n      <td>yes</td>\n      <td>yes</td>\n      <td>half</td>\n    </tr>\n    <tr>\n      <th>14</th>\n      <td>I'm Still Standing</td>\n      <td>Elton John</td>\n      <td>yes</td>\n      <td>yes</td>\n      <td>yes</td>\n      <td>yes</td>\n    </tr>\n    <tr>\n      <th>15</th>\n      <td>It's My Life</td>\n      <td>Bon Jovi</td>\n      <td>yes</td>\n      <td>yes</td>\n      <td>yes</td>\n      <td>yes</td>\n    </tr>\n    <tr>\n      <th>16</th>\n      <td>Love You Like a Love Song</td>\n      <td>Selena Gomez</td>\n      <td>yes</td>\n      <td>yes</td>\n      <td>yes</td>\n      <td>yes</td>\n    </tr>\n    <tr>\n      <th>17</th>\n      <td>Mambo No. 5</td>\n      <td>Lou Bega</td>\n      <td>yes</td>\n      <td>yes</td>\n      <td>yes</td>\n      <td>yes</td>\n    </tr>\n    <tr>\n      <th>18</th>\n      <td>On My Way</td>\n      <td>Sabrina Carpenter</td>\n      <td>yes</td>\n      <td>yes</td>\n      <td>yes</td>\n      <td>yes</td>\n    </tr>\n    <tr>\n      <th>19</th>\n      <td>Seven Nation Army</td>\n      <td>The White Stripes</td>\n      <td>yes</td>\n      <td>no</td>\n      <td>no</td>\n      <td>half</td>\n    </tr>\n    <tr>\n      <th>20</th>\n      <td>Shake It Off</td>\n      <td>Taylor Swift</td>\n      <td>yes</td>\n      <td>no</td>\n      <td>yes</td>\n      <td>half</td>\n    </tr>\n    <tr>\n      <th>21</th>\n      <td>Spark</td>\n      <td>Vexento</td>\n      <td>yes</td>\n      <td>yes</td>\n      <td>yes</td>\n      <td>yes</td>\n    </tr>\n    <tr>\n      <th>22</th>\n      <td>Stereo Hearts</td>\n      <td>Gym Class Heroes</td>\n      <td>yes</td>\n      <td>yes</td>\n      <td>yes</td>\n      <td>yes</td>\n    </tr>\n    <tr>\n      <th>23</th>\n      <td>Temple of Love</td>\n      <td>The Sisters of Mercy</td>\n      <td>yes</td>\n      <td>yes</td>\n      <td>yes</td>\n      <td>yes</td>\n    </tr>\n    <tr>\n      <th>24</th>\n      <td>Thunder</td>\n      <td>Imagine Dragons</td>\n      <td>yes</td>\n      <td>yes</td>\n      <td>yes</td>\n      <td>yes</td>\n    </tr>\n    <tr>\n      <th>25</th>\n      <td>Thunder</td>\n      <td>Gabry Ponte</td>\n      <td>half</td>\n      <td>half</td>\n      <td>yes</td>\n      <td>yes</td>\n    </tr>\n    <tr>\n      <th>26</th>\n      <td>Uptown Funk</td>\n      <td>Mark Ronson</td>\n      <td>yes</td>\n      <td>yes</td>\n      <td>yes</td>\n      <td>yes</td>\n    </tr>\n    <tr>\n      <th>27</th>\n      <td>Valhalla Calling Me</td>\n      <td>Miracle of Sound</td>\n      <td>yes</td>\n      <td>yes</td>\n      <td>yes</td>\n      <td>yes</td>\n    </tr>\n    <tr>\n      <th>28</th>\n      <td>We Will Rock You</td>\n      <td>Queen</td>\n      <td>half</td>\n      <td>half</td>\n      <td>no</td>\n      <td>yes</td>\n    </tr>\n    <tr>\n      <th>29</th>\n      <td>Without You</td>\n      <td>Avicii</td>\n      <td>yes</td>\n      <td>yes</td>\n      <td>yes</td>\n      <td>yes</td>\n    </tr>\n    <tr>\n      <th>30</th>\n      <td>Y.M.C.A.</td>\n      <td>Village People</td>\n      <td>half</td>\n      <td>half</td>\n      <td>half</td>\n      <td>yes</td>\n    </tr>\n  </tbody>\n</table>\n</div>"
     },
     "execution_count": 4,
     "metadata": {},
     "output_type": "execute_result"
    }
   ],
   "source": [
    "beat_df = pd.read_csv(\"beat_results.csv\")\n",
    "beat_df"
   ],
   "metadata": {
    "collapsed": false,
    "ExecuteTime": {
     "end_time": "2024-05-08T12:55:58.143045700Z",
     "start_time": "2024-05-08T12:55:58.117665900Z"
    }
   },
   "id": "b9546c09fdea3bbf"
  },
  {
   "cell_type": "code",
   "execution_count": 6,
   "outputs": [],
   "source": [],
   "metadata": {
    "collapsed": false,
    "ExecuteTime": {
     "end_time": "2024-05-08T13:00:44.147791300Z",
     "start_time": "2024-05-08T13:00:44.147791300Z"
    }
   },
   "id": "20936e7cdfa4ec1b"
  }
 ],
 "metadata": {
  "kernelspec": {
   "display_name": "Python 3",
   "language": "python",
   "name": "python3"
  },
  "language_info": {
   "codemirror_mode": {
    "name": "ipython",
    "version": 2
   },
   "file_extension": ".py",
   "mimetype": "text/x-python",
   "name": "python",
   "nbconvert_exporter": "python",
   "pygments_lexer": "ipython2",
   "version": "2.7.6"
  }
 },
 "nbformat": 4,
 "nbformat_minor": 5
}
