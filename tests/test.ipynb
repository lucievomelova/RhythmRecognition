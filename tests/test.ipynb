{
 "cells": [
  {
   "cell_type": "code",
   "execution_count": 1,
   "id": "initial_id",
   "metadata": {
    "collapsed": true,
    "ExecuteTime": {
     "end_time": "2024-05-02T18:40:47.479971500Z",
     "start_time": "2024-05-02T18:40:46.923649700Z"
    }
   },
   "outputs": [],
   "source": [
    "import json\n",
    "\n",
    "import numpy as np\n",
    "import pandas as pd\n",
    "from scipy.io import wavfile as wav\n",
    "import librosa\n",
    "import RhythmRecognition.detect\n",
    "from RhythmRecognition.constants import *\n",
    "\n",
    "import IPython.display as ipd\n",
    "\n",
    "f = open('data.json')\n",
    "songs = json.load(f)\n",
    "f.close()\n",
    "path = \"../audio_files/\"\n"
   ]
  },
  {
   "cell_type": "code",
   "execution_count": 2,
   "outputs": [],
   "source": [
    "# for i in range(len(songs)):\n",
    "#     print(i, \"/\", len(songs), sep=\"\", end=\", \")\n",
    "#     song = songs[i]\n",
    "#     audiofile = path + song[\"filename\"]\n",
    "#     calculated_tempo = RhythmRecognition.detect.tempo(audiofile)\n",
    "#     song[\"fourier\"] = calculated_tempo\n"
   ],
   "metadata": {
    "collapsed": false,
    "ExecuteTime": {
     "end_time": "2024-05-02T18:40:47.487188500Z",
     "start_time": "2024-05-02T18:40:47.482095500Z"
    }
   },
   "id": "c05d188252cd8a9a"
  },
  {
   "cell_type": "code",
   "execution_count": 3,
   "outputs": [],
   "source": [
    "# for i in range(len(songs)):\n",
    "#     print(i, \"/\", len(songs), sep=\"\", end=\", \")\n",
    "#     song = songs[i]\n",
    "#     audiofile = path + song[\"filename\"]\n",
    "#     calculated_tempo = RhythmRecognition.detect.tempo(audiofile, approach=\"autocorrelation\")\n",
    "#     song[\"autocorrelation\"] = calculated_tempo\n"
   ],
   "metadata": {
    "collapsed": false,
    "ExecuteTime": {
     "end_time": "2024-05-02T18:40:47.495874200Z",
     "start_time": "2024-05-02T18:40:47.484659200Z"
    }
   },
   "id": "2d5224eef360ebcd"
  },
  {
   "cell_type": "code",
   "execution_count": 4,
   "outputs": [],
   "source": [
    "# for i in range(len(songs)):\n",
    "#     print(i, \"/\", len(songs), sep=\"\", end=\", \")\n",
    "#     song = songs[i]\n",
    "#     audiofile = path + song[\"filename\"]\n",
    "#     calculated_tempo = RhythmRecognition.detect.tempo(audiofile, approach=\"hybrid\")\n",
    "#     song[\"hybrid\"] = calculated_tempo\n",
    "# \n",
    "# df = pd.DataFrame.from_dict(songs)\n",
    "# df.to_csv(\"tempograms.csv\")\n",
    "# df"
   ],
   "metadata": {
    "collapsed": false,
    "ExecuteTime": {
     "end_time": "2024-05-02T18:40:47.506565400Z",
     "start_time": "2024-05-02T18:40:47.494062600Z"
    }
   },
   "id": "56eee3b1a60623cf"
  },
  {
   "cell_type": "code",
   "execution_count": 5,
   "outputs": [],
   "source": [
    "def save(signal, click_track, filename):\n",
    "    # signal, _ = librosa.load(audiofile, sr=SAMPLING_RATE)\n",
    "    click_track = librosa.clicks(times=click_track, sr=SAMPLING_RATE, length=len(signal), hop_length=HOP_LENGTH)\n",
    "    combined = signal + click_track\n",
    "    wav.write(filename, SAMPLING_RATE, combined.astype(signal.dtype))"
   ],
   "metadata": {
    "collapsed": false,
    "ExecuteTime": {
     "end_time": "2024-05-02T18:40:47.514402500Z",
     "start_time": "2024-05-02T18:40:47.500884Z"
    }
   },
   "id": "68448e3487a0b93e"
  },
  {
   "cell_type": "code",
   "execution_count": 16,
   "outputs": [
    {
     "name": "stdout",
     "output_type": "stream",
     "text": [
      "0/31, 1/31, 2/31, 3/31, 4/31, 5/31, 6/31, 7/31, 8/31, 9/31, 10/31, 11/31, 12/31, 13/31, 14/31, 15/31, 16/31, 17/31, 18/31, 19/31, 20/31, 21/31, 22/31, 23/31, 24/31, 25/31, 26/31, 27/31, 28/31, 29/31, 30/31, "
     ]
    },
    {
     "data": {
      "text/plain": "                         filename                              name  \\\n0                      africa.wav                            Africa   \n1                       alone.wav                             Alone   \n2            around_the_world.wav                  Around the World   \n3                  baby_shark.wav                        Baby Shark   \n4                    believer.wav                          Believer   \n5              beautiful_life.wav                    Beautiful Life   \n6               call_me_maybe.wav                     Call Me Maybe   \n7       cant_stop_the_feeling.wav           Can't Stop the Feeling!   \n8                  dont_speak.wav                       Don't Speak   \n9                  evangeline.wav                        Evangeline   \n10                      faded.wav                             Faded   \n11                   firework.wav                          Firework   \n12             hollaback_girl.wav                    Hollaback Girl   \n13          i_ran_so_far_away.wav               I Ran (So Far Away)   \n14          im_still_standing.wav                I'm Still Standing   \n15                its_my_life.wav                      It's My Life   \n16  love_you_like_a_love_song.wav         Love You Like a Love Song   \n17                 mambo_no_5.wav  Mambo No. 5 (A Little Bit Ofâ€¦)   \n18                  on_my_way.wav                         On My Way   \n19          seven_nation_army.wav                 Seven Nation Army   \n20               shake_it_off.wav                      Shake It Off   \n21                      spark.wav                             Spark   \n22              stereo_hearts.wav                     Stereo Hearts   \n23             temple_of_love.wav                    Temple of Love   \n24                    thunder.wav                           Thunder   \n25                   thunder2.wav                           Thunder   \n26                uptown_funk.wav                       Uptown Funk   \n27        valhalla_calling_me.wav               Valhalla Calling Me   \n28           we_will_rock_you.wav                  We Will Rock You   \n29                without_you.wav                       Without You   \n30                       ymca.wav                          Y.M.C.A.   \n\n                                     artist  tempo  shift_score_spectral  \\\n0                                      Toto     92                 0.065   \n1                               Alan Walker     97                 0.206   \n2                                       ATC    132                 0.419   \n3                                         -    115                 0.313   \n4                           Imagine Dragons    125                 0.424   \n5                               Ace of Base    135                 0.308   \n6                          Carly Rae Jepsen    120                 0.259   \n7                         Justin Timberlake    113                 0.148   \n8                                  No Doubt     76                 0.433   \n9                             Matthew Sweet    175                 0.063   \n10                              Alan Walker     90                 0.198   \n11                               Katy Perry    124                 0.404   \n12                             Gwen Stefani    110                 0.335   \n13                      A Flock Of Seagulls    146                 0.085   \n14                               Elton John    177                 0.140   \n15                                 Bon Jovi    120                 0.239   \n16                             Selena Gomez    117                 0.090   \n17                                 Lou Bega    174                 0.306   \n18  Sabrina Carpenter, Alan Walker, Farruko    170                 0.098   \n19                        The White Stripes    124                 0.457   \n20                             Taylor Swift    160                 0.046   \n21                                  Vexento    117                 0.005   \n22                         Gym Class Heroes     90                 0.352   \n23                     The Sisters of Mercy    166                 0.168   \n24                          Imagine Dragons    168                 0.237   \n25             Gabry Ponte, Prezioso, LUM!X    135                 0.010   \n26                  Mark Ronson, Bruno Mars    115                 0.326   \n27                         Miracle of Sound    152                 0.224   \n28                                    Queen     81                 0.111   \n29                                   Avicii    134                 0.071   \n30                           Village People    127                 0.403   \n\n    shift_score_energy  shift_penalty_spectral  shift_penalty_energy  \n0                0.199                   0.383                 0.619  \n1                0.185                   0.198                 0.504  \n2                0.399                   0.417                 0.177  \n3                0.285                   0.322                 0.045  \n4                0.393                   0.425                 0.394  \n5                0.061                   0.308                 0.066  \n6                0.234                   0.253                 0.234  \n7                0.389                   0.149                 0.393  \n8                0.410                   0.442                 0.419  \n9                0.233                   0.066                 0.086  \n10               0.509                   0.201                 0.520  \n11               0.395                   0.167                 0.406  \n12               0.307                   0.331                 0.317  \n13               0.062                   0.159                 0.077  \n14               0.103                   0.121                 0.098  \n15               0.216                   0.248                 0.214  \n16               0.072                   0.090                 0.080  \n17               0.284                   0.306                 0.029  \n18               0.075                   0.098                 0.075  \n19               0.444                   0.386                 0.019  \n20               0.025                   0.245                 0.028  \n21               0.247                   0.010                 0.503  \n22               0.328                   0.347                 0.329  \n23               0.138                   0.168                 0.171  \n24               0.214                   0.234                 0.224  \n25               0.440                   0.017                 0.000  \n26               0.300                   0.330                 0.306  \n27               0.201                   0.233                 0.210  \n28               0.136                   0.491                 0.183  \n29               0.056                   0.076                 0.066  \n30               0.123                   0.409                 0.088  ",
      "text/html": "<div>\n<style scoped>\n    .dataframe tbody tr th:only-of-type {\n        vertical-align: middle;\n    }\n\n    .dataframe tbody tr th {\n        vertical-align: top;\n    }\n\n    .dataframe thead th {\n        text-align: right;\n    }\n</style>\n<table border=\"1\" class=\"dataframe\">\n  <thead>\n    <tr style=\"text-align: right;\">\n      <th></th>\n      <th>filename</th>\n      <th>name</th>\n      <th>artist</th>\n      <th>tempo</th>\n      <th>shift_score_spectral</th>\n      <th>shift_score_energy</th>\n      <th>shift_penalty_spectral</th>\n      <th>shift_penalty_energy</th>\n    </tr>\n  </thead>\n  <tbody>\n    <tr>\n      <th>0</th>\n      <td>africa.wav</td>\n      <td>Africa</td>\n      <td>Toto</td>\n      <td>92</td>\n      <td>0.065</td>\n      <td>0.199</td>\n      <td>0.383</td>\n      <td>0.619</td>\n    </tr>\n    <tr>\n      <th>1</th>\n      <td>alone.wav</td>\n      <td>Alone</td>\n      <td>Alan Walker</td>\n      <td>97</td>\n      <td>0.206</td>\n      <td>0.185</td>\n      <td>0.198</td>\n      <td>0.504</td>\n    </tr>\n    <tr>\n      <th>2</th>\n      <td>around_the_world.wav</td>\n      <td>Around the World</td>\n      <td>ATC</td>\n      <td>132</td>\n      <td>0.419</td>\n      <td>0.399</td>\n      <td>0.417</td>\n      <td>0.177</td>\n    </tr>\n    <tr>\n      <th>3</th>\n      <td>baby_shark.wav</td>\n      <td>Baby Shark</td>\n      <td>-</td>\n      <td>115</td>\n      <td>0.313</td>\n      <td>0.285</td>\n      <td>0.322</td>\n      <td>0.045</td>\n    </tr>\n    <tr>\n      <th>4</th>\n      <td>believer.wav</td>\n      <td>Believer</td>\n      <td>Imagine Dragons</td>\n      <td>125</td>\n      <td>0.424</td>\n      <td>0.393</td>\n      <td>0.425</td>\n      <td>0.394</td>\n    </tr>\n    <tr>\n      <th>5</th>\n      <td>beautiful_life.wav</td>\n      <td>Beautiful Life</td>\n      <td>Ace of Base</td>\n      <td>135</td>\n      <td>0.308</td>\n      <td>0.061</td>\n      <td>0.308</td>\n      <td>0.066</td>\n    </tr>\n    <tr>\n      <th>6</th>\n      <td>call_me_maybe.wav</td>\n      <td>Call Me Maybe</td>\n      <td>Carly Rae Jepsen</td>\n      <td>120</td>\n      <td>0.259</td>\n      <td>0.234</td>\n      <td>0.253</td>\n      <td>0.234</td>\n    </tr>\n    <tr>\n      <th>7</th>\n      <td>cant_stop_the_feeling.wav</td>\n      <td>Can't Stop the Feeling!</td>\n      <td>Justin Timberlake</td>\n      <td>113</td>\n      <td>0.148</td>\n      <td>0.389</td>\n      <td>0.149</td>\n      <td>0.393</td>\n    </tr>\n    <tr>\n      <th>8</th>\n      <td>dont_speak.wav</td>\n      <td>Don't Speak</td>\n      <td>No Doubt</td>\n      <td>76</td>\n      <td>0.433</td>\n      <td>0.410</td>\n      <td>0.442</td>\n      <td>0.419</td>\n    </tr>\n    <tr>\n      <th>9</th>\n      <td>evangeline.wav</td>\n      <td>Evangeline</td>\n      <td>Matthew Sweet</td>\n      <td>175</td>\n      <td>0.063</td>\n      <td>0.233</td>\n      <td>0.066</td>\n      <td>0.086</td>\n    </tr>\n    <tr>\n      <th>10</th>\n      <td>faded.wav</td>\n      <td>Faded</td>\n      <td>Alan Walker</td>\n      <td>90</td>\n      <td>0.198</td>\n      <td>0.509</td>\n      <td>0.201</td>\n      <td>0.520</td>\n    </tr>\n    <tr>\n      <th>11</th>\n      <td>firework.wav</td>\n      <td>Firework</td>\n      <td>Katy Perry</td>\n      <td>124</td>\n      <td>0.404</td>\n      <td>0.395</td>\n      <td>0.167</td>\n      <td>0.406</td>\n    </tr>\n    <tr>\n      <th>12</th>\n      <td>hollaback_girl.wav</td>\n      <td>Hollaback Girl</td>\n      <td>Gwen Stefani</td>\n      <td>110</td>\n      <td>0.335</td>\n      <td>0.307</td>\n      <td>0.331</td>\n      <td>0.317</td>\n    </tr>\n    <tr>\n      <th>13</th>\n      <td>i_ran_so_far_away.wav</td>\n      <td>I Ran (So Far Away)</td>\n      <td>A Flock Of Seagulls</td>\n      <td>146</td>\n      <td>0.085</td>\n      <td>0.062</td>\n      <td>0.159</td>\n      <td>0.077</td>\n    </tr>\n    <tr>\n      <th>14</th>\n      <td>im_still_standing.wav</td>\n      <td>I'm Still Standing</td>\n      <td>Elton John</td>\n      <td>177</td>\n      <td>0.140</td>\n      <td>0.103</td>\n      <td>0.121</td>\n      <td>0.098</td>\n    </tr>\n    <tr>\n      <th>15</th>\n      <td>its_my_life.wav</td>\n      <td>It's My Life</td>\n      <td>Bon Jovi</td>\n      <td>120</td>\n      <td>0.239</td>\n      <td>0.216</td>\n      <td>0.248</td>\n      <td>0.214</td>\n    </tr>\n    <tr>\n      <th>16</th>\n      <td>love_you_like_a_love_song.wav</td>\n      <td>Love You Like a Love Song</td>\n      <td>Selena Gomez</td>\n      <td>117</td>\n      <td>0.090</td>\n      <td>0.072</td>\n      <td>0.090</td>\n      <td>0.080</td>\n    </tr>\n    <tr>\n      <th>17</th>\n      <td>mambo_no_5.wav</td>\n      <td>Mambo No. 5 (A Little Bit Ofâ€¦)</td>\n      <td>Lou Bega</td>\n      <td>174</td>\n      <td>0.306</td>\n      <td>0.284</td>\n      <td>0.306</td>\n      <td>0.029</td>\n    </tr>\n    <tr>\n      <th>18</th>\n      <td>on_my_way.wav</td>\n      <td>On My Way</td>\n      <td>Sabrina Carpenter, Alan Walker, Farruko</td>\n      <td>170</td>\n      <td>0.098</td>\n      <td>0.075</td>\n      <td>0.098</td>\n      <td>0.075</td>\n    </tr>\n    <tr>\n      <th>19</th>\n      <td>seven_nation_army.wav</td>\n      <td>Seven Nation Army</td>\n      <td>The White Stripes</td>\n      <td>124</td>\n      <td>0.457</td>\n      <td>0.444</td>\n      <td>0.386</td>\n      <td>0.019</td>\n    </tr>\n    <tr>\n      <th>20</th>\n      <td>shake_it_off.wav</td>\n      <td>Shake It Off</td>\n      <td>Taylor Swift</td>\n      <td>160</td>\n      <td>0.046</td>\n      <td>0.025</td>\n      <td>0.245</td>\n      <td>0.028</td>\n    </tr>\n    <tr>\n      <th>21</th>\n      <td>spark.wav</td>\n      <td>Spark</td>\n      <td>Vexento</td>\n      <td>117</td>\n      <td>0.005</td>\n      <td>0.247</td>\n      <td>0.010</td>\n      <td>0.503</td>\n    </tr>\n    <tr>\n      <th>22</th>\n      <td>stereo_hearts.wav</td>\n      <td>Stereo Hearts</td>\n      <td>Gym Class Heroes</td>\n      <td>90</td>\n      <td>0.352</td>\n      <td>0.328</td>\n      <td>0.347</td>\n      <td>0.329</td>\n    </tr>\n    <tr>\n      <th>23</th>\n      <td>temple_of_love.wav</td>\n      <td>Temple of Love</td>\n      <td>The Sisters of Mercy</td>\n      <td>166</td>\n      <td>0.168</td>\n      <td>0.138</td>\n      <td>0.168</td>\n      <td>0.171</td>\n    </tr>\n    <tr>\n      <th>24</th>\n      <td>thunder.wav</td>\n      <td>Thunder</td>\n      <td>Imagine Dragons</td>\n      <td>168</td>\n      <td>0.237</td>\n      <td>0.214</td>\n      <td>0.234</td>\n      <td>0.224</td>\n    </tr>\n    <tr>\n      <th>25</th>\n      <td>thunder2.wav</td>\n      <td>Thunder</td>\n      <td>Gabry Ponte, Prezioso, LUM!X</td>\n      <td>135</td>\n      <td>0.010</td>\n      <td>0.440</td>\n      <td>0.017</td>\n      <td>0.000</td>\n    </tr>\n    <tr>\n      <th>26</th>\n      <td>uptown_funk.wav</td>\n      <td>Uptown Funk</td>\n      <td>Mark Ronson, Bruno Mars</td>\n      <td>115</td>\n      <td>0.326</td>\n      <td>0.300</td>\n      <td>0.330</td>\n      <td>0.306</td>\n    </tr>\n    <tr>\n      <th>27</th>\n      <td>valhalla_calling_me.wav</td>\n      <td>Valhalla Calling Me</td>\n      <td>Miracle of Sound</td>\n      <td>152</td>\n      <td>0.224</td>\n      <td>0.201</td>\n      <td>0.233</td>\n      <td>0.210</td>\n    </tr>\n    <tr>\n      <th>28</th>\n      <td>we_will_rock_you.wav</td>\n      <td>We Will Rock You</td>\n      <td>Queen</td>\n      <td>81</td>\n      <td>0.111</td>\n      <td>0.136</td>\n      <td>0.491</td>\n      <td>0.183</td>\n    </tr>\n    <tr>\n      <th>29</th>\n      <td>without_you.wav</td>\n      <td>Without You</td>\n      <td>Avicii</td>\n      <td>134</td>\n      <td>0.071</td>\n      <td>0.056</td>\n      <td>0.076</td>\n      <td>0.066</td>\n    </tr>\n    <tr>\n      <th>30</th>\n      <td>ymca.wav</td>\n      <td>Y.M.C.A.</td>\n      <td>Village People</td>\n      <td>127</td>\n      <td>0.403</td>\n      <td>0.123</td>\n      <td>0.409</td>\n      <td>0.088</td>\n    </tr>\n  </tbody>\n</table>\n</div>"
     },
     "execution_count": 16,
     "metadata": {},
     "output_type": "execute_result"
    }
   ],
   "source": [
    "for i in range(len(songs)):\n",
    "    print(i, \"/\", len(songs), sep=\"\", end=\", \")\n",
    "    song = songs[i]\n",
    "    audiofile = path + song[\"filename\"]\n",
    "    shift = RhythmRecognition.detect.beat_time_shift(audiofile, bpm=song[\"tempo\"], novelty_approach=\"spectral\")\n",
    "    song[\"shift_score_spectral\"] = shift\n",
    "    shift = RhythmRecognition.detect.beat_time_shift(audiofile, bpm=song[\"tempo\"], novelty_approach=\"energy\")\n",
    "    song[\"shift_score_energy\"] = shift\n",
    "    shift = RhythmRecognition.detect.beat_time_shift(audiofile, bpm=song[\"tempo\"], approach=\"penalty\", novelty_approach=\"spectral\")\n",
    "    song[\"shift_penalty_spectral\"] = shift\n",
    "    shift = RhythmRecognition.detect.beat_time_shift(audiofile, bpm=song[\"tempo\"], approach=\"penalty\", \n",
    "                                                     novelty_approach=\"energy\")\n",
    "    song[\"shift_penalty_energy\"] = shift\n",
    "\n",
    "df = pd.DataFrame.from_dict(songs)\n",
    "df"
   ],
   "metadata": {
    "collapsed": false,
    "ExecuteTime": {
     "end_time": "2024-05-02T19:10:31.649985700Z",
     "start_time": "2024-05-02T19:08:27.128406500Z"
    }
   },
   "id": "7cda6f65ad634127"
  },
  {
   "cell_type": "code",
   "execution_count": 17,
   "outputs": [],
   "source": [
    "df[[\"name\", \"artist\"]].to_csv(\"nameartist.csv\")"
   ],
   "metadata": {
    "collapsed": false,
    "ExecuteTime": {
     "end_time": "2024-05-02T19:59:22.588052500Z",
     "start_time": "2024-05-02T19:59:22.564044200Z"
    }
   },
   "id": "9d65fc4ac1e0c86f"
  },
  {
   "cell_type": "code",
   "execution_count": 7,
   "outputs": [
    {
     "name": "stdout",
     "output_type": "stream",
     "text": [
      "0/31, 1/31, 2/31, 3/31, 4/31, 5/31, 6/31, 7/31, 8/31, 9/31, 10/31, 11/31, 12/31, 13/31, 14/31, 15/31, 16/31, 17/31, 18/31, 19/31, 20/31, 21/31, 22/31, 23/31, 24/31, 25/31, 26/31, 27/31, 28/31, 29/31, 30/31, "
     ]
    }
   ],
   "source": [
    "# for i in range(len(songs)):\n",
    "#     print(i, \"/\", len(songs), sep=\"\", end=\", \")\n",
    "#     song = songs[i]\n",
    "#     audiofile = path + song[\"filename\"]\n",
    "#     \n",
    "#     signal, sr = librosa.load(audiofile, duration=30, sr=SAMPLING_RATE)\n",
    "#     \n",
    "#     beat_track = RhythmRecognition.detect.beat_track(audiofile, bpm=song[\"tempo\"], novelty_approach=\"spectral\")\n",
    "#     # beat_track = librosa.clicks(times=beat_track, length=SAMPLING_RATE*10, hop_length=HOP_LENGTH, sr=SAMPLING_RATE)\n",
    "#     # ipd.Audio(signal + beat_track, rate=SAMPLING_RATE)\n",
    "#     save(signal, beat_track, \"out/beat/score/spectral/\" + song[\"name\"] + str(i) +\".wav\")\n",
    "#     \n",
    "#     beat_track = RhythmRecognition.detect.beat_track(audiofile, bpm=song[\"tempo\"], novelty_approach=\"energy\")\n",
    "#     # beat_track = librosa.clicks(times=beat_track, length=SAMPLING_RATE*10, hop_length=HOP_LENGTH, sr=SAMPLING_RATE)\n",
    "#     # ipd.Audio(signal + beat_track, rate=SAMPLING_RATE)\n",
    "#     save(signal, beat_track, \"out/beat/score/energy/\" + song[\"name\"] + str(i) +\".wav\")\n",
    "#     \n",
    "#     beat_track = RhythmRecognition.detect.beat_track(audiofile, bpm=song[\"tempo\"], approach=\"penalty\", novelty_approach=\"spectral\")\n",
    "#     # beat_track = librosa.clicks(times=beat_track, length=SAMPLING_RATE*10, hop_length=HOP_LENGTH, sr=SAMPLING_RATE)\n",
    "#     # ipd.Audio(signal + beat_track, rate=SAMPLING_RATE)\n",
    "#     save(signal, beat_track, \"out/beat/penalty/spectral/\" + song[\"name\"]+ str(i) +\".wav\")\n",
    "#     \n",
    "#     beat_track = RhythmRecognition.detect.beat_track(audiofile, bpm=song[\"tempo\"], approach=\"penalty\", \n",
    "#                                                      novelty_approach=\"energy\")\n",
    "#     # beat_track = librosa.clicks(times=beat_track, length=SAMPLING_RATE*10, hop_length=HOP_LENGTH, sr=SAMPLING_RATE)\n",
    "#     # ipd.Audio(signal + beat_track, rate=SAMPLING_RATE)\n",
    "#     save(signal, beat_track, \"out/beat/penalty/energy/\" + song[\"name\"] + str(i) +\".wav\")\n",
    "#     # save(audiofile, beat_track, \"out/beat/\" + song[\"name\"] + \"-beat-score.wav\")\n",
    "# \n",
    "#     "
   ],
   "metadata": {
    "collapsed": false,
    "ExecuteTime": {
     "end_time": "2024-05-02T18:42:59.833370500Z",
     "start_time": "2024-05-02T18:40:47.512398900Z"
    }
   },
   "id": "1a1133df06be830b"
  },
  {
   "cell_type": "code",
   "execution_count": 8,
   "outputs": [],
   "source": [
    "# for i in range(len(songs)):\n",
    "#     print(i, \"/\", len(songs), sep=\"\", end=\", \")\n",
    "#     song = songs[i]\n",
    "#     audiofile = path + song[\"filename\"]\n",
    "#     beat_track = RhythmRecognition.detect.beat_track(audiofile, approach=\"penalty\")\n",
    "#     save(audiofile, beat_track, \"out/beat/\" + song[\"filename\"] + \"-beat-penalty.wav\")\n"
   ],
   "metadata": {
    "collapsed": false,
    "ExecuteTime": {
     "end_time": "2024-05-02T18:42:59.840826800Z",
     "start_time": "2024-05-02T18:42:59.834368900Z"
    }
   },
   "id": "dc8fa18e6666a455"
  },
  {
   "cell_type": "code",
   "execution_count": 9,
   "outputs": [
    {
     "name": "stdout",
     "output_type": "stream",
     "text": [
      "0                               Africa\n",
      "1                                Alone\n",
      "2                     Around the World\n",
      "3                           Baby Shark\n",
      "4                             Believer\n",
      "5                       Beautiful Life\n",
      "6                        Call Me Maybe\n",
      "7              Can't Stop the Feeling!\n",
      "8                          Don't Speak\n",
      "9                           Evangeline\n",
      "10                               Faded\n",
      "11                            Firework\n",
      "12                      Hollaback Girl\n",
      "13                 I Ran (So Far Away)\n",
      "14                  I'm Still Standing\n",
      "15                        It's My Life\n",
      "16           Love You Like a Love Song\n",
      "17    Mambo No. 5 (A Little Bit Ofâ€¦)\n",
      "18                           On My Way\n",
      "19                   Seven Nation Army\n",
      "20                        Shake It Off\n",
      "21                               Spark\n",
      "22                       Stereo Hearts\n",
      "23                      Temple of Love\n",
      "24                             Thunder\n",
      "25                             Thunder\n",
      "26                         Uptown Funk\n",
      "27                 Valhalla Calling Me\n",
      "28                    We Will Rock You\n",
      "29                         Without You\n",
      "30                            Y.M.C.A.\n",
      "Name: name, dtype: object\n"
     ]
    }
   ],
   "source": [
    "df = pd.DataFrame.from_dict(songs)\n",
    "df\n",
    "print(df[\"name\"])"
   ],
   "metadata": {
    "collapsed": false,
    "ExecuteTime": {
     "end_time": "2024-05-02T18:42:59.850168Z",
     "start_time": "2024-05-02T18:42:59.837315300Z"
    }
   },
   "id": "56f56dab4136b1fb"
  },
  {
   "cell_type": "code",
   "execution_count": 24,
   "outputs": [
    {
     "data": {
      "text/plain": "                                                                         score energy  \\\nname                             artist                                                 \nAfrica                           Toto                                              no   \nAlone                            Alan Walker                                     half   \nAround the World                 ATC                                             half   \nBaby Shark                       -                                                 ok   \nBeliever                         Imagine Dragons                                   ok   \nBeautiful Life                   Ace of Base                                       ok   \nCall Me Maybe                    Carly Rae Jepsen                                  ok   \nCan't Stop the Feeling!          Justin Timberlake                                 ok   \nDon't Speak                      No Doubt                                          no   \nEvangeline                       Matthew Sweet                                     ok   \nFaded                            Alan Walker                                       ok   \nFirework                         Katy Perry                                        ok   \nHollaback Girl                   Gwen Stefani                                      ok   \nI Ran (So Far Away)              A Flock Of Seagulls                               ok   \nI'm Still Standing               Elton John                                        ok   \nIt's My Life                     Bon Jovi                                          ok   \nLove You Like a Love Song        Selena Gomez                                      ok   \nMambo No. 5 (A Little Bit Ofâ€¦) Lou Bega                                          no   \nOn My Way                        Sabrina Carpenter, Alan Walker, Farruko           ok   \nSeven Nation Army                The White Stripes                                 ok   \nShake It Off                     Taylor Swift                                      ok   \nSpark                            Vexento                                         half   \nStereo Hearts                    Gym Class Heroes                                  ok   \nTemple of Love                   The Sisters of Mercy                              ok   \nThunder                          Imagine Dragons                                   ok   \n                                 Gabry Ponte, Prezioso, LUM!X                      ok   \nUptown Funk                      Mark Ronson, Bruno Mars                           ok   \nValhalla Calling Me              Miracle of Sound                                  ok   \nWe Will Rock You                 Queen                                             no   \nWithout You                      Avicii                                            ok   \nY.M.C.A.                         Village People                                    ok   \n\n                                                                         penalty energy  \\\nname                             artist                                                   \nAfrica                           Toto                                                no   \nAlone                            Alan Walker                                         ok   \nAround the World                 ATC                                                 ok   \nBaby Shark                       -                                                 half   \nBeliever                         Imagine Dragons                                     ok   \nBeautiful Life                   Ace of Base                                         ok   \nCall Me Maybe                    Carly Rae Jepsen                                    ok   \nCan't Stop the Feeling!          Justin Timberlake                                   ok   \nDon't Speak                      No Doubt                                            no   \nEvangeline                       Matthew Sweet                                       no   \nFaded                            Alan Walker                                         ok   \nFirework                         Katy Perry                                          ok   \nHollaback Girl                   Gwen Stefani                                        ok   \nI Ran (So Far Away)              A Flock Of Seagulls                                 ok   \nI'm Still Standing               Elton John                                          ok   \nIt's My Life                     Bon Jovi                                            ok   \nLove You Like a Love Song        Selena Gomez                                        ok   \nMambo No. 5 (A Little Bit Ofâ€¦) Lou Bega                                            no   \nOn My Way                        Sabrina Carpenter, Alan Walker, Farruko             ok   \nSeven Nation Army                The White Stripes                                   no   \nShake It Off                     Taylor Swift                                        ok   \nSpark                            Vexento                                             ok   \nStereo Hearts                    Gym Class Heroes                                    ok   \nTemple of Love                   The Sisters of Mercy                                ok   \nThunder                          Imagine Dragons                                     ok   \n                                 Gabry Ponte, Prezioso, LUM!X                        ok   \nUptown Funk                      Mark Ronson, Bruno Mars                             ok   \nValhalla Calling Me              Miracle of Sound                                    ok   \nWe Will Rock You                 Queen                                             half   \nWithout You                      Avicii                                              ok   \nY.M.C.A.                         Village People                                      ok   \n\n                                                                         score spectral  \\\nname                             artist                                                   \nAfrica                           Toto                                                ok   \nAlone                            Alan Walker                                       half   \nAround the World                 ATC                                               half   \nBaby Shark                       -                                                   ok   \nBeliever                         Imagine Dragons                                     ok   \nBeautiful Life                   Ace of Base                                       half   \nCall Me Maybe                    Carly Rae Jepsen                                    ok   \nCan't Stop the Feeling!          Justin Timberlake                                 half   \nDon't Speak                      No Doubt                                            no   \nEvangeline                       Matthew Sweet                                       no   \nFaded                            Alan Walker                                       half   \nFirework                         Katy Perry                                          ok   \nHollaback Girl                   Gwen Stefani                                        ok   \nI Ran (So Far Away)              A Flock Of Seagulls                                 ok   \nI'm Still Standing               Elton John                                          ok   \nIt's My Life                     Bon Jovi                                            ok   \nLove You Like a Love Song        Selena Gomez                                        ok   \nMambo No. 5 (A Little Bit Ofâ€¦) Lou Bega                                            no   \nOn My Way                        Sabrina Carpenter, Alan Walker, Farruko             ok   \nSeven Nation Army                The White Stripes                                   ok   \nShake It Off                     Taylor Swift                                        ok   \nSpark                            Vexento                                             ok   \nStereo Hearts                    Gym Class Heroes                                    ok   \nTemple of Love                   The Sisters of Mercy                                ok   \nThunder                          Imagine Dragons                                     ok   \n                                 Gabry Ponte, Prezioso, LUM!X                        ok   \nUptown Funk                      Mark Ronson, Bruno Mars                             ok   \nValhalla Calling Me              Miracle of Sound                                    ok   \nWe Will Rock You                 Queen                                               no   \nWithout You                      Avicii                                              ok   \nY.M.C.A.                         Village People                                    half   \n\n                                                                         penalty spectral  \nname                             artist                                                    \nAfrica                           Toto                                                half  \nAlone                            Alan Walker                                         half  \nAround the World                 ATC                                                 half  \nBaby Shark                       -                                                     ok  \nBeliever                         Imagine Dragons                                       ok  \nBeautiful Life                   Ace of Base                                         half  \nCall Me Maybe                    Carly Rae Jepsen                                      ok  \nCan't Stop the Feeling!          Justin Timberlake                                   half  \nDon't Speak                      No Doubt                                              no  \nEvangeline                       Matthew Sweet                                         no  \nFaded                            Alan Walker                                         half  \nFirework                         Katy Perry                                          half  \nHollaback Girl                   Gwen Stefani                                          ok  \nI Ran (So Far Away)              A Flock Of Seagulls                                   no  \nI'm Still Standing               Elton John                                            ok  \nIt's My Life                     Bon Jovi                                              ok  \nLove You Like a Love Song        Selena Gomez                                          ok  \nMambo No. 5 (A Little Bit Ofâ€¦) Lou Bega                                              no  \nOn My Way                        Sabrina Carpenter, Alan Walker, Farruko               ok  \nSeven Nation Army                The White Stripes                                     no  \nShake It Off                     Taylor Swift                                        half  \nSpark                            Vexento                                               ok  \nStereo Hearts                    Gym Class Heroes                                      ok  \nTemple of Love                   The Sisters of Mercy                                  ok  \nThunder                          Imagine Dragons                                       ok  \n                                 Gabry Ponte, Prezioso, LUM!X                          ok  \nUptown Funk                      Mark Ronson, Bruno Mars                               ok  \nValhalla Calling Me              Miracle of Sound                                      ok  \nWe Will Rock You                 Queen                                                 no  \nWithout You                      Avicii                                                ok  \nY.M.C.A.                         Village People                                      half  ",
      "text/html": "<div>\n<style scoped>\n    .dataframe tbody tr th:only-of-type {\n        vertical-align: middle;\n    }\n\n    .dataframe tbody tr th {\n        vertical-align: top;\n    }\n\n    .dataframe thead th {\n        text-align: right;\n    }\n</style>\n<table border=\"1\" class=\"dataframe\">\n  <thead>\n    <tr style=\"text-align: right;\">\n      <th></th>\n      <th></th>\n      <th>score energy</th>\n      <th>penalty energy</th>\n      <th>score spectral</th>\n      <th>penalty spectral</th>\n    </tr>\n    <tr>\n      <th>name</th>\n      <th>artist</th>\n      <th></th>\n      <th></th>\n      <th></th>\n      <th></th>\n    </tr>\n  </thead>\n  <tbody>\n    <tr>\n      <th>Africa</th>\n      <th>Toto</th>\n      <td>no</td>\n      <td>no</td>\n      <td>ok</td>\n      <td>half</td>\n    </tr>\n    <tr>\n      <th>Alone</th>\n      <th>Alan Walker</th>\n      <td>half</td>\n      <td>ok</td>\n      <td>half</td>\n      <td>half</td>\n    </tr>\n    <tr>\n      <th>Around the World</th>\n      <th>ATC</th>\n      <td>half</td>\n      <td>ok</td>\n      <td>half</td>\n      <td>half</td>\n    </tr>\n    <tr>\n      <th>Baby Shark</th>\n      <th>-</th>\n      <td>ok</td>\n      <td>half</td>\n      <td>ok</td>\n      <td>ok</td>\n    </tr>\n    <tr>\n      <th>Believer</th>\n      <th>Imagine Dragons</th>\n      <td>ok</td>\n      <td>ok</td>\n      <td>ok</td>\n      <td>ok</td>\n    </tr>\n    <tr>\n      <th>Beautiful Life</th>\n      <th>Ace of Base</th>\n      <td>ok</td>\n      <td>ok</td>\n      <td>half</td>\n      <td>half</td>\n    </tr>\n    <tr>\n      <th>Call Me Maybe</th>\n      <th>Carly Rae Jepsen</th>\n      <td>ok</td>\n      <td>ok</td>\n      <td>ok</td>\n      <td>ok</td>\n    </tr>\n    <tr>\n      <th>Can't Stop the Feeling!</th>\n      <th>Justin Timberlake</th>\n      <td>ok</td>\n      <td>ok</td>\n      <td>half</td>\n      <td>half</td>\n    </tr>\n    <tr>\n      <th>Don't Speak</th>\n      <th>No Doubt</th>\n      <td>no</td>\n      <td>no</td>\n      <td>no</td>\n      <td>no</td>\n    </tr>\n    <tr>\n      <th>Evangeline</th>\n      <th>Matthew Sweet</th>\n      <td>ok</td>\n      <td>no</td>\n      <td>no</td>\n      <td>no</td>\n    </tr>\n    <tr>\n      <th>Faded</th>\n      <th>Alan Walker</th>\n      <td>ok</td>\n      <td>ok</td>\n      <td>half</td>\n      <td>half</td>\n    </tr>\n    <tr>\n      <th>Firework</th>\n      <th>Katy Perry</th>\n      <td>ok</td>\n      <td>ok</td>\n      <td>ok</td>\n      <td>half</td>\n    </tr>\n    <tr>\n      <th>Hollaback Girl</th>\n      <th>Gwen Stefani</th>\n      <td>ok</td>\n      <td>ok</td>\n      <td>ok</td>\n      <td>ok</td>\n    </tr>\n    <tr>\n      <th>I Ran (So Far Away)</th>\n      <th>A Flock Of Seagulls</th>\n      <td>ok</td>\n      <td>ok</td>\n      <td>ok</td>\n      <td>no</td>\n    </tr>\n    <tr>\n      <th>I'm Still Standing</th>\n      <th>Elton John</th>\n      <td>ok</td>\n      <td>ok</td>\n      <td>ok</td>\n      <td>ok</td>\n    </tr>\n    <tr>\n      <th>It's My Life</th>\n      <th>Bon Jovi</th>\n      <td>ok</td>\n      <td>ok</td>\n      <td>ok</td>\n      <td>ok</td>\n    </tr>\n    <tr>\n      <th>Love You Like a Love Song</th>\n      <th>Selena Gomez</th>\n      <td>ok</td>\n      <td>ok</td>\n      <td>ok</td>\n      <td>ok</td>\n    </tr>\n    <tr>\n      <th>Mambo No. 5 (A Little Bit Ofâ€¦)</th>\n      <th>Lou Bega</th>\n      <td>no</td>\n      <td>no</td>\n      <td>no</td>\n      <td>no</td>\n    </tr>\n    <tr>\n      <th>On My Way</th>\n      <th>Sabrina Carpenter, Alan Walker, Farruko</th>\n      <td>ok</td>\n      <td>ok</td>\n      <td>ok</td>\n      <td>ok</td>\n    </tr>\n    <tr>\n      <th>Seven Nation Army</th>\n      <th>The White Stripes</th>\n      <td>ok</td>\n      <td>no</td>\n      <td>ok</td>\n      <td>no</td>\n    </tr>\n    <tr>\n      <th>Shake It Off</th>\n      <th>Taylor Swift</th>\n      <td>ok</td>\n      <td>ok</td>\n      <td>ok</td>\n      <td>half</td>\n    </tr>\n    <tr>\n      <th>Spark</th>\n      <th>Vexento</th>\n      <td>half</td>\n      <td>ok</td>\n      <td>ok</td>\n      <td>ok</td>\n    </tr>\n    <tr>\n      <th>Stereo Hearts</th>\n      <th>Gym Class Heroes</th>\n      <td>ok</td>\n      <td>ok</td>\n      <td>ok</td>\n      <td>ok</td>\n    </tr>\n    <tr>\n      <th>Temple of Love</th>\n      <th>The Sisters of Mercy</th>\n      <td>ok</td>\n      <td>ok</td>\n      <td>ok</td>\n      <td>ok</td>\n    </tr>\n    <tr>\n      <th rowspan=\"2\" valign=\"top\">Thunder</th>\n      <th>Imagine Dragons</th>\n      <td>ok</td>\n      <td>ok</td>\n      <td>ok</td>\n      <td>ok</td>\n    </tr>\n    <tr>\n      <th>Gabry Ponte, Prezioso, LUM!X</th>\n      <td>ok</td>\n      <td>ok</td>\n      <td>ok</td>\n      <td>ok</td>\n    </tr>\n    <tr>\n      <th>Uptown Funk</th>\n      <th>Mark Ronson, Bruno Mars</th>\n      <td>ok</td>\n      <td>ok</td>\n      <td>ok</td>\n      <td>ok</td>\n    </tr>\n    <tr>\n      <th>Valhalla Calling Me</th>\n      <th>Miracle of Sound</th>\n      <td>ok</td>\n      <td>ok</td>\n      <td>ok</td>\n      <td>ok</td>\n    </tr>\n    <tr>\n      <th>We Will Rock You</th>\n      <th>Queen</th>\n      <td>no</td>\n      <td>half</td>\n      <td>no</td>\n      <td>no</td>\n    </tr>\n    <tr>\n      <th>Without You</th>\n      <th>Avicii</th>\n      <td>ok</td>\n      <td>ok</td>\n      <td>ok</td>\n      <td>ok</td>\n    </tr>\n    <tr>\n      <th>Y.M.C.A.</th>\n      <th>Village People</th>\n      <td>ok</td>\n      <td>ok</td>\n      <td>half</td>\n      <td>half</td>\n    </tr>\n  </tbody>\n</table>\n</div>"
     },
     "execution_count": 24,
     "metadata": {},
     "output_type": "execute_result"
    }
   ],
   "source": [
    "beat_df = pd.read_csv(\"beat.csv\")\n",
    "beat_df[\"name\"] = df[\"name\"]\n",
    "beat_df[\"artist\"] = df[\"artist\"]\n",
    "beat_df = beat_df.set_index([\"name\", \"artist\"])\n",
    "beat_df.to_csv(\"beat_with_names.csv\")\n",
    "beat_df"
   ],
   "metadata": {
    "collapsed": false,
    "ExecuteTime": {
     "end_time": "2024-05-02T20:17:24.300217300Z",
     "start_time": "2024-05-02T20:17:24.284777200Z"
    }
   },
   "id": "b9546c09fdea3bbf"
  },
  {
   "cell_type": "code",
   "execution_count": 10,
   "outputs": [],
   "source": [
    "# for i in range(len(songs)):\n",
    "#     print(i, \"/\", len(songs), sep=\"\", end=\", \")\n",
    "#     song = songs[i]\n",
    "#     audiofile = path + song[\"filename\"]\n",
    "#     rhythm_track = RhythmRecognition.detect.rhythm_track(audiofile, approach=\"parts\")\n",
    "#     save(audiofile, rhythm_track, \"out/rhythm/\" + song[\"filename\"] + \"-rhythm-parts.wav\")\n"
   ],
   "metadata": {
    "collapsed": false,
    "ExecuteTime": {
     "end_time": "2024-05-02T18:42:59.850168Z",
     "start_time": "2024-05-02T18:42:59.844760200Z"
    }
   },
   "id": "4fd90bef68b14761"
  },
  {
   "cell_type": "code",
   "execution_count": 11,
   "outputs": [],
   "source": [
    "# for i in range(len(songs)):\n",
    "#     print(i, \"/\", len(songs), sep=\"\", end=\", \")\n",
    "#     song = songs[i]\n",
    "#     audiofile = path + song[\"filename\"]\n",
    "#     rhythm_track = RhythmRecognition.detect.rhythm_track(audiofile, approach=\"chorus-verse\")\n",
    "#     save(audiofile, rhythm_track, \"out/rhythm/\" + song[\"filename\"] + \"-rhythm-cv.wav\")"
   ],
   "metadata": {
    "collapsed": false,
    "ExecuteTime": {
     "end_time": "2024-05-02T18:42:59.858873300Z",
     "start_time": "2024-05-02T18:42:59.849161Z"
    }
   },
   "id": "efbc7e40018972c1"
  },
  {
   "cell_type": "code",
   "execution_count": 12,
   "outputs": [],
   "source": [
    "# df"
   ],
   "metadata": {
    "collapsed": false,
    "ExecuteTime": {
     "end_time": "2024-05-02T18:42:59.886783700Z",
     "start_time": "2024-05-02T18:42:59.853086200Z"
    }
   },
   "id": "c310e45dbe4c8992"
  },
  {
   "cell_type": "code",
   "execution_count": 13,
   "outputs": [],
   "source": [
    "# df = df.set_index([\"name\", \"artist\"])\n",
    "# \n",
    "# df2 = df.drop(columns=[\"filename\"])\n",
    "# df2"
   ],
   "metadata": {
    "collapsed": false,
    "ExecuteTime": {
     "end_time": "2024-05-02T18:42:59.894843200Z",
     "start_time": "2024-05-02T18:42:59.857367Z"
    }
   },
   "id": "a4a45ac350656477"
  },
  {
   "cell_type": "code",
   "execution_count": 14,
   "outputs": [],
   "source": [
    "# df2 = df2.reset_index()\n",
    "# df2 = df2.drop(columns=[\"artist\"])\n",
    "# df2.to_csv(\"tempograms.csv\")"
   ],
   "metadata": {
    "collapsed": false,
    "ExecuteTime": {
     "end_time": "2024-05-02T18:42:59.894843200Z",
     "start_time": "2024-05-02T18:42:59.865114600Z"
    }
   },
   "id": "23eaafb275b136fc"
  },
  {
   "cell_type": "code",
   "execution_count": 15,
   "outputs": [],
   "source": [
    "# for i in range(len(songs)):\n",
    "#     print(i, \"/\", len(songs), sep=\"\", end=\", \")\n",
    "#     song = songs[i]\n",
    "#     audiofile = path + song[\"filename\"]\n",
    "#     calculated_tempo = RhythmRecognition.detect.tempo(audiofile, approach=\"fourier\", novelty_approach=\"energy\")\n",
    "#     song[\"fourier\"] = calculated_tempo\n",
    "#     calculated_tempo = RhythmRecognition.detect.tempo(audiofile, approach=\"autocorrelation\", novelty_approach=\"energy\")\n",
    "#     song[\"autocorrelation\"] = calculated_tempo\n",
    "#     calculated_tempo = RhythmRecognition.detect.tempo(audiofile, approach=\"hybrid\", novelty_approach=\"energy\")\n",
    "#     song[\"hybrid\"] = calculated_tempo\n",
    "# \n",
    "# df = pd.DataFrame.from_dict(songs)\n",
    "# df.to_csv(\"energy_tempograms.csv\")\n",
    "# df"
   ],
   "metadata": {
    "collapsed": false,
    "ExecuteTime": {
     "end_time": "2024-05-02T18:42:59.895841300Z",
     "start_time": "2024-05-02T18:42:59.869688700Z"
    }
   },
   "id": "48a3deb139d56cc3"
  },
  {
   "cell_type": "code",
   "execution_count": 15,
   "outputs": [],
   "source": [],
   "metadata": {
    "collapsed": false,
    "ExecuteTime": {
     "end_time": "2024-05-02T18:42:59.895841300Z",
     "start_time": "2024-05-02T18:42:59.873348600Z"
    }
   },
   "id": "551149223ecddad4"
  }
 ],
 "metadata": {
  "kernelspec": {
   "display_name": "Python 3",
   "language": "python",
   "name": "python3"
  },
  "language_info": {
   "codemirror_mode": {
    "name": "ipython",
    "version": 2
   },
   "file_extension": ".py",
   "mimetype": "text/x-python",
   "name": "python",
   "nbconvert_exporter": "python",
   "pygments_lexer": "ipython2",
   "version": "2.7.6"
  }
 },
 "nbformat": 4,
 "nbformat_minor": 5
}
