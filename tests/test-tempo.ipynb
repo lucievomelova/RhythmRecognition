{
 "cells": [
  {
   "cell_type": "markdown",
   "source": [
    "# Test tempogram approaches\n",
    "Tests were done on 31 songs, information about them can be found in file `data.json`.\n",
    "For testing, methods from `detect.py` were used."
   ],
   "metadata": {
    "collapsed": false
   },
   "id": "45d11699723eb3ca"
  },
  {
   "cell_type": "code",
   "execution_count": 1,
   "outputs": [],
   "source": [
    "import json\n",
    "import pandas as pd\n",
    "import RhythmRecognition.detect\n",
    "\n",
    "f = open('data.json')\n",
    "songs = json.load(f)\n",
    "f.close()\n",
    "path = \"../audio_files/\"\n"
   ],
   "metadata": {
    "collapsed": false,
    "ExecuteTime": {
     "end_time": "2024-05-07T23:51:31.263433600Z",
     "start_time": "2024-05-07T23:51:30.512692300Z"
    }
   },
   "id": "initial_id"
  },
  {
   "cell_type": "markdown",
   "source": [
    "## Test all tempograms on energy-based novelty function\n"
   ],
   "metadata": {
    "collapsed": false
   },
   "id": "780dcb9c54f81e6"
  },
  {
   "cell_type": "code",
   "execution_count": 2,
   "outputs": [
    {
     "name": "stdout",
     "output_type": "stream",
     "text": [
      "0/31, 1/31, 2/31, 3/31, 4/31, 5/31, 6/31, 7/31, 8/31, 9/31, 10/31, 11/31, 12/31, 13/31, 14/31, 15/31, 16/31, 17/31, 18/31, 19/31, 20/31, 21/31, 22/31, 23/31, 24/31, 25/31, 26/31, 27/31, 28/31, 29/31, 30/31, 0/31, 1/31, 2/31, 3/31, 4/31, 5/31, 6/31, 7/31, 8/31, 9/31, 10/31, 11/31, 12/31, 13/31, 14/31, 15/31, 16/31, 17/31, 18/31, 19/31, 20/31, 21/31, 22/31, 23/31, 24/31, 25/31, 26/31, 27/31, 28/31, 29/31, 30/31, "
     ]
    }
   ],
   "source": [
    "# fourier tempogram\n",
    "for i in range(len(songs)):\n",
    "    print(i, \"/\", len(songs), sep=\"\", end=\", \")\n",
    "    song = songs[i]\n",
    "    audiofile = path + song[\"filename\"]\n",
    "    calculated_tempo = RhythmRecognition.detect.tempo(audiofile, approach=\"fourier\", novelty_approach=\"energy\")\n",
    "    song[\"fourier-energy\"] = calculated_tempo\n",
    "\n",
    "# autocorrelation tempogram\n",
    "for i in range(len(songs)):\n",
    "    print(i, \"/\", len(songs), sep=\"\", end=\", \")\n",
    "    song = songs[i]\n",
    "    audiofile = path + song[\"filename\"]\n",
    "    calculated_tempo = RhythmRecognition.detect.tempo(audiofile, approach=\"autocorrelation\", novelty_approach=\"energy\")\n",
    "    song[\"autocorrelation-energy\"] = calculated_tempo\n",
    "\n",
    "\n"
   ],
   "metadata": {
    "collapsed": false,
    "ExecuteTime": {
     "end_time": "2024-05-07T23:54:20.979452900Z",
     "start_time": "2024-05-07T23:51:31.263433600Z"
    }
   },
   "id": "56eee3b1a60623cf"
  },
  {
   "cell_type": "code",
   "execution_count": 3,
   "outputs": [
    {
     "data": {
      "text/plain": "                         filename                       name  \\\n0                      africa.wav                     Africa   \n1                       alone.wav                      Alone   \n2            around_the_world.wav           Around the World   \n3                  baby_shark.wav                 Baby Shark   \n4              beautiful_life.wav             Beautiful Life   \n5                    believer.wav                   Believer   \n6               call_me_maybe.wav              Call Me Maybe   \n7       cant_stop_the_feeling.wav    Can't Stop the Feeling!   \n8                  dont_speak.wav                Don't Speak   \n9                  evangeline.wav                 Evangeline   \n10                      faded.wav                      Faded   \n11                   firework.wav                   Firework   \n12             hollaback_girl.wav             Hollaback Girl   \n13          i_ran_so_far_away.wav        I Ran (So Far Away)   \n14          im_still_standing.wav         I'm Still Standing   \n15                its_my_life.wav               It's My Life   \n16  love_you_like_a_love_song.wav  Love You Like a Love Song   \n17                 mambo_no_5.wav                Mambo No. 5   \n18                  on_my_way.wav                  On My Way   \n19          seven_nation_army.wav          Seven Nation Army   \n20               shake_it_off.wav               Shake It Off   \n21                      spark.wav                      Spark   \n22              stereo_hearts.wav              Stereo Hearts   \n23             temple_of_love.wav             Temple of Love   \n24                    thunder.wav                    Thunder   \n25                   thunder2.wav                    Thunder   \n26                uptown_funk.wav                Uptown Funk   \n27        valhalla_calling_me.wav        Valhalla Calling Me   \n28           we_will_rock_you.wav           We Will Rock You   \n29                without_you.wav                Without You   \n30                       ymca.wav                   Y.M.C.A.   \n\n                                     artist  tempo  fourier-energy  \\\n0                                      Toto     92              92   \n1                               Alan Walker     97             194   \n2                                       ATC    132             132   \n3                                  Pinkfong    115             115   \n4                               Ace of Base    135             135   \n5                           Imagine Dragons    125             125   \n6                          Carly Rae Jepsen    120             120   \n7                         Justin Timberlake    113             113   \n8                                  No Doubt     76              76   \n9                             Matthew Sweet    175             175   \n10                              Alan Walker     90             180   \n11                               Katy Perry    124             124   \n12                             Gwen Stefani    110              82   \n13                      A Flock Of Seagulls    146             147   \n14                               Elton John    177             178   \n15                                 Bon Jovi    120             120   \n16                             Selena Gomez    117             117   \n17                                 Lou Bega    174             174   \n18  Sabrina Carpenter, Alan Walker, Farruko    170             127   \n19                        The White Stripes    124             123   \n20                             Taylor Swift    160             120   \n21                                  Vexento    117             117   \n22                         Gym Class Heroes     90             180   \n23                     The Sisters of Mercy    166             166   \n24                          Imagine Dragons    168             105   \n25             Gabry Ponte, Prezioso, LUM!X    135             135   \n26                  Mark Ronson, Bruno Mars    115             115   \n27                         Miracle of Sound    152             152   \n28                                    Queen     81             163   \n29                                   Avicii    134             134   \n30                           Village People    127             127   \n\n    autocorrelation-energy  \n0                       46  \n1                       48  \n2                      128  \n3                      113  \n4                      131  \n5                      122  \n6                      117  \n7                      111  \n8                      100  \n9                       86  \n10                      88  \n11                     121  \n12                      72  \n13                     143  \n14                      87  \n15                      59  \n16                     114  \n17                      86  \n18                      42  \n19                     121  \n20                     105  \n21                     115  \n22                      89  \n23                      82  \n24                      55  \n25                     131  \n26                     113  \n27                     149  \n28                      40  \n29                     131  \n30                     124  ",
      "text/html": "<div>\n<style scoped>\n    .dataframe tbody tr th:only-of-type {\n        vertical-align: middle;\n    }\n\n    .dataframe tbody tr th {\n        vertical-align: top;\n    }\n\n    .dataframe thead th {\n        text-align: right;\n    }\n</style>\n<table border=\"1\" class=\"dataframe\">\n  <thead>\n    <tr style=\"text-align: right;\">\n      <th></th>\n      <th>filename</th>\n      <th>name</th>\n      <th>artist</th>\n      <th>tempo</th>\n      <th>fourier-energy</th>\n      <th>autocorrelation-energy</th>\n    </tr>\n  </thead>\n  <tbody>\n    <tr>\n      <th>0</th>\n      <td>africa.wav</td>\n      <td>Africa</td>\n      <td>Toto</td>\n      <td>92</td>\n      <td>92</td>\n      <td>46</td>\n    </tr>\n    <tr>\n      <th>1</th>\n      <td>alone.wav</td>\n      <td>Alone</td>\n      <td>Alan Walker</td>\n      <td>97</td>\n      <td>194</td>\n      <td>48</td>\n    </tr>\n    <tr>\n      <th>2</th>\n      <td>around_the_world.wav</td>\n      <td>Around the World</td>\n      <td>ATC</td>\n      <td>132</td>\n      <td>132</td>\n      <td>128</td>\n    </tr>\n    <tr>\n      <th>3</th>\n      <td>baby_shark.wav</td>\n      <td>Baby Shark</td>\n      <td>Pinkfong</td>\n      <td>115</td>\n      <td>115</td>\n      <td>113</td>\n    </tr>\n    <tr>\n      <th>4</th>\n      <td>beautiful_life.wav</td>\n      <td>Beautiful Life</td>\n      <td>Ace of Base</td>\n      <td>135</td>\n      <td>135</td>\n      <td>131</td>\n    </tr>\n    <tr>\n      <th>5</th>\n      <td>believer.wav</td>\n      <td>Believer</td>\n      <td>Imagine Dragons</td>\n      <td>125</td>\n      <td>125</td>\n      <td>122</td>\n    </tr>\n    <tr>\n      <th>6</th>\n      <td>call_me_maybe.wav</td>\n      <td>Call Me Maybe</td>\n      <td>Carly Rae Jepsen</td>\n      <td>120</td>\n      <td>120</td>\n      <td>117</td>\n    </tr>\n    <tr>\n      <th>7</th>\n      <td>cant_stop_the_feeling.wav</td>\n      <td>Can't Stop the Feeling!</td>\n      <td>Justin Timberlake</td>\n      <td>113</td>\n      <td>113</td>\n      <td>111</td>\n    </tr>\n    <tr>\n      <th>8</th>\n      <td>dont_speak.wav</td>\n      <td>Don't Speak</td>\n      <td>No Doubt</td>\n      <td>76</td>\n      <td>76</td>\n      <td>100</td>\n    </tr>\n    <tr>\n      <th>9</th>\n      <td>evangeline.wav</td>\n      <td>Evangeline</td>\n      <td>Matthew Sweet</td>\n      <td>175</td>\n      <td>175</td>\n      <td>86</td>\n    </tr>\n    <tr>\n      <th>10</th>\n      <td>faded.wav</td>\n      <td>Faded</td>\n      <td>Alan Walker</td>\n      <td>90</td>\n      <td>180</td>\n      <td>88</td>\n    </tr>\n    <tr>\n      <th>11</th>\n      <td>firework.wav</td>\n      <td>Firework</td>\n      <td>Katy Perry</td>\n      <td>124</td>\n      <td>124</td>\n      <td>121</td>\n    </tr>\n    <tr>\n      <th>12</th>\n      <td>hollaback_girl.wav</td>\n      <td>Hollaback Girl</td>\n      <td>Gwen Stefani</td>\n      <td>110</td>\n      <td>82</td>\n      <td>72</td>\n    </tr>\n    <tr>\n      <th>13</th>\n      <td>i_ran_so_far_away.wav</td>\n      <td>I Ran (So Far Away)</td>\n      <td>A Flock Of Seagulls</td>\n      <td>146</td>\n      <td>147</td>\n      <td>143</td>\n    </tr>\n    <tr>\n      <th>14</th>\n      <td>im_still_standing.wav</td>\n      <td>I'm Still Standing</td>\n      <td>Elton John</td>\n      <td>177</td>\n      <td>178</td>\n      <td>87</td>\n    </tr>\n    <tr>\n      <th>15</th>\n      <td>its_my_life.wav</td>\n      <td>It's My Life</td>\n      <td>Bon Jovi</td>\n      <td>120</td>\n      <td>120</td>\n      <td>59</td>\n    </tr>\n    <tr>\n      <th>16</th>\n      <td>love_you_like_a_love_song.wav</td>\n      <td>Love You Like a Love Song</td>\n      <td>Selena Gomez</td>\n      <td>117</td>\n      <td>117</td>\n      <td>114</td>\n    </tr>\n    <tr>\n      <th>17</th>\n      <td>mambo_no_5.wav</td>\n      <td>Mambo No. 5</td>\n      <td>Lou Bega</td>\n      <td>174</td>\n      <td>174</td>\n      <td>86</td>\n    </tr>\n    <tr>\n      <th>18</th>\n      <td>on_my_way.wav</td>\n      <td>On My Way</td>\n      <td>Sabrina Carpenter, Alan Walker, Farruko</td>\n      <td>170</td>\n      <td>127</td>\n      <td>42</td>\n    </tr>\n    <tr>\n      <th>19</th>\n      <td>seven_nation_army.wav</td>\n      <td>Seven Nation Army</td>\n      <td>The White Stripes</td>\n      <td>124</td>\n      <td>123</td>\n      <td>121</td>\n    </tr>\n    <tr>\n      <th>20</th>\n      <td>shake_it_off.wav</td>\n      <td>Shake It Off</td>\n      <td>Taylor Swift</td>\n      <td>160</td>\n      <td>120</td>\n      <td>105</td>\n    </tr>\n    <tr>\n      <th>21</th>\n      <td>spark.wav</td>\n      <td>Spark</td>\n      <td>Vexento</td>\n      <td>117</td>\n      <td>117</td>\n      <td>115</td>\n    </tr>\n    <tr>\n      <th>22</th>\n      <td>stereo_hearts.wav</td>\n      <td>Stereo Hearts</td>\n      <td>Gym Class Heroes</td>\n      <td>90</td>\n      <td>180</td>\n      <td>89</td>\n    </tr>\n    <tr>\n      <th>23</th>\n      <td>temple_of_love.wav</td>\n      <td>Temple of Love</td>\n      <td>The Sisters of Mercy</td>\n      <td>166</td>\n      <td>166</td>\n      <td>82</td>\n    </tr>\n    <tr>\n      <th>24</th>\n      <td>thunder.wav</td>\n      <td>Thunder</td>\n      <td>Imagine Dragons</td>\n      <td>168</td>\n      <td>105</td>\n      <td>55</td>\n    </tr>\n    <tr>\n      <th>25</th>\n      <td>thunder2.wav</td>\n      <td>Thunder</td>\n      <td>Gabry Ponte, Prezioso, LUM!X</td>\n      <td>135</td>\n      <td>135</td>\n      <td>131</td>\n    </tr>\n    <tr>\n      <th>26</th>\n      <td>uptown_funk.wav</td>\n      <td>Uptown Funk</td>\n      <td>Mark Ronson, Bruno Mars</td>\n      <td>115</td>\n      <td>115</td>\n      <td>113</td>\n    </tr>\n    <tr>\n      <th>27</th>\n      <td>valhalla_calling_me.wav</td>\n      <td>Valhalla Calling Me</td>\n      <td>Miracle of Sound</td>\n      <td>152</td>\n      <td>152</td>\n      <td>149</td>\n    </tr>\n    <tr>\n      <th>28</th>\n      <td>we_will_rock_you.wav</td>\n      <td>We Will Rock You</td>\n      <td>Queen</td>\n      <td>81</td>\n      <td>163</td>\n      <td>40</td>\n    </tr>\n    <tr>\n      <th>29</th>\n      <td>without_you.wav</td>\n      <td>Without You</td>\n      <td>Avicii</td>\n      <td>134</td>\n      <td>134</td>\n      <td>131</td>\n    </tr>\n    <tr>\n      <th>30</th>\n      <td>ymca.wav</td>\n      <td>Y.M.C.A.</td>\n      <td>Village People</td>\n      <td>127</td>\n      <td>127</td>\n      <td>124</td>\n    </tr>\n  </tbody>\n</table>\n</div>"
     },
     "execution_count": 3,
     "metadata": {},
     "output_type": "execute_result"
    }
   ],
   "source": [
    "df = pd.DataFrame.from_dict(songs)\n",
    "df"
   ],
   "metadata": {
    "collapsed": false,
    "ExecuteTime": {
     "end_time": "2024-05-07T23:54:20.993075200Z",
     "start_time": "2024-05-07T23:54:20.980452600Z"
    }
   },
   "id": "a8ebe199f2d897f6"
  },
  {
   "cell_type": "markdown",
   "source": [
    "## Test all tempograms on spectral-based novelty function"
   ],
   "metadata": {
    "collapsed": false
   },
   "id": "89827e45d4244a41"
  },
  {
   "cell_type": "code",
   "execution_count": 4,
   "outputs": [
    {
     "name": "stdout",
     "output_type": "stream",
     "text": [
      "0/31, 1/31, 2/31, 3/31, 4/31, 5/31, 6/31, 7/31, 8/31, 9/31, 10/31, 11/31, 12/31, 13/31, 14/31, 15/31, 16/31, 17/31, 18/31, 19/31, 20/31, 21/31, 22/31, 23/31, 24/31, 25/31, 26/31, 27/31, 28/31, 29/31, 30/31, 0/31, 1/31, 2/31, 3/31, 4/31, 5/31, 6/31, 7/31, 8/31, 9/31, 10/31, 11/31, 12/31, 13/31, 14/31, 15/31, 16/31, 17/31, 18/31, 19/31, 20/31, 21/31, 22/31, 23/31, 24/31, 25/31, 26/31, 27/31, 28/31, 29/31, 30/31, "
     ]
    }
   ],
   "source": [
    "# fourier tempogram\n",
    "for i in range(len(songs)):\n",
    "    print(i, \"/\", len(songs), sep=\"\", end=\", \")\n",
    "    song = songs[i]\n",
    "    audiofile = path + song[\"filename\"]\n",
    "    calculated_tempo = RhythmRecognition.detect.tempo(audiofile, approach=\"fourier\", novelty_approach=\"spectral\")\n",
    "    song[\"fourier-spectral\"] = calculated_tempo\n",
    "\n",
    "# autocorrelation tempogram\n",
    "for i in range(len(songs)):\n",
    "    print(i, \"/\", len(songs), sep=\"\", end=\", \")\n",
    "    song = songs[i]\n",
    "    audiofile = path + song[\"filename\"]\n",
    "    calculated_tempo = RhythmRecognition.detect.tempo(audiofile, approach=\"autocorrelation\", novelty_approach=\"spectral\")\n",
    "    song[\"autocorrelation-spectral\"] = calculated_tempo\n",
    "\n"
   ],
   "metadata": {
    "collapsed": false,
    "ExecuteTime": {
     "end_time": "2024-05-07T23:58:07.682692800Z",
     "start_time": "2024-05-07T23:54:20.994074100Z"
    }
   },
   "id": "c05d188252cd8a9a"
  },
  {
   "cell_type": "code",
   "execution_count": 5,
   "outputs": [
    {
     "data": {
      "text/plain": "                         filename                       name  \\\n0                      africa.wav                     Africa   \n1                       alone.wav                      Alone   \n2            around_the_world.wav           Around the World   \n3                  baby_shark.wav                 Baby Shark   \n4              beautiful_life.wav             Beautiful Life   \n5                    believer.wav                   Believer   \n6               call_me_maybe.wav              Call Me Maybe   \n7       cant_stop_the_feeling.wav    Can't Stop the Feeling!   \n8                  dont_speak.wav                Don't Speak   \n9                  evangeline.wav                 Evangeline   \n10                      faded.wav                      Faded   \n11                   firework.wav                   Firework   \n12             hollaback_girl.wav             Hollaback Girl   \n13          i_ran_so_far_away.wav        I Ran (So Far Away)   \n14          im_still_standing.wav         I'm Still Standing   \n15                its_my_life.wav               It's My Life   \n16  love_you_like_a_love_song.wav  Love You Like a Love Song   \n17                 mambo_no_5.wav                Mambo No. 5   \n18                  on_my_way.wav                  On My Way   \n19          seven_nation_army.wav          Seven Nation Army   \n20               shake_it_off.wav               Shake It Off   \n21                      spark.wav                      Spark   \n22              stereo_hearts.wav              Stereo Hearts   \n23             temple_of_love.wav             Temple of Love   \n24                    thunder.wav                    Thunder   \n25                   thunder2.wav                    Thunder   \n26                uptown_funk.wav                Uptown Funk   \n27        valhalla_calling_me.wav        Valhalla Calling Me   \n28           we_will_rock_you.wav           We Will Rock You   \n29                without_you.wav                Without You   \n30                       ymca.wav                   Y.M.C.A.   \n\n                                     artist  tempo  fourier-energy  \\\n0                                      Toto     92              92   \n1                               Alan Walker     97             194   \n2                                       ATC    132             132   \n3                                  Pinkfong    115             115   \n4                               Ace of Base    135             135   \n5                           Imagine Dragons    125             125   \n6                          Carly Rae Jepsen    120             120   \n7                         Justin Timberlake    113             113   \n8                                  No Doubt     76              76   \n9                             Matthew Sweet    175             175   \n10                              Alan Walker     90             180   \n11                               Katy Perry    124             124   \n12                             Gwen Stefani    110              82   \n13                      A Flock Of Seagulls    146             147   \n14                               Elton John    177             178   \n15                                 Bon Jovi    120             120   \n16                             Selena Gomez    117             117   \n17                                 Lou Bega    174             174   \n18  Sabrina Carpenter, Alan Walker, Farruko    170             127   \n19                        The White Stripes    124             123   \n20                             Taylor Swift    160             120   \n21                                  Vexento    117             117   \n22                         Gym Class Heroes     90             180   \n23                     The Sisters of Mercy    166             166   \n24                          Imagine Dragons    168             105   \n25             Gabry Ponte, Prezioso, LUM!X    135             135   \n26                  Mark Ronson, Bruno Mars    115             115   \n27                         Miracle of Sound    152             152   \n28                                    Queen     81             163   \n29                                   Avicii    134             134   \n30                           Village People    127             127   \n\n    autocorrelation-energy  fourier-spectral  autocorrelation-spectral  \n0                       46               185                        91  \n1                       48               194                       185  \n2                      128               132                       129  \n3                      113               115                       112  \n4                      131               152                        67  \n5                      122               125                       122  \n6                      117               180                       117  \n7                      111               113                       111  \n8                      100               152                        75  \n9                       86               175                        87  \n10                      88               180                        89  \n11                     121               124                       121  \n12                      72               165                        72  \n13                     143               146                       142  \n14                      87               178                        87  \n15                      59               120                       117  \n16                     114               117                       114  \n17                      86               174                       167  \n18                      42               128                        42  \n19                     121               124                        61  \n20                     105               160                        79  \n21                     115               117                        58  \n22                      89               180                        45  \n23                      82               166                        82  \n24                      55               168                        42  \n25                     131               135                       133  \n26                     113               115                       113  \n27                     149               152                        75  \n28                      40               163                        40  \n29                     131               134                       131  \n30                     124               127                        63  ",
      "text/html": "<div>\n<style scoped>\n    .dataframe tbody tr th:only-of-type {\n        vertical-align: middle;\n    }\n\n    .dataframe tbody tr th {\n        vertical-align: top;\n    }\n\n    .dataframe thead th {\n        text-align: right;\n    }\n</style>\n<table border=\"1\" class=\"dataframe\">\n  <thead>\n    <tr style=\"text-align: right;\">\n      <th></th>\n      <th>filename</th>\n      <th>name</th>\n      <th>artist</th>\n      <th>tempo</th>\n      <th>fourier-energy</th>\n      <th>autocorrelation-energy</th>\n      <th>fourier-spectral</th>\n      <th>autocorrelation-spectral</th>\n    </tr>\n  </thead>\n  <tbody>\n    <tr>\n      <th>0</th>\n      <td>africa.wav</td>\n      <td>Africa</td>\n      <td>Toto</td>\n      <td>92</td>\n      <td>92</td>\n      <td>46</td>\n      <td>185</td>\n      <td>91</td>\n    </tr>\n    <tr>\n      <th>1</th>\n      <td>alone.wav</td>\n      <td>Alone</td>\n      <td>Alan Walker</td>\n      <td>97</td>\n      <td>194</td>\n      <td>48</td>\n      <td>194</td>\n      <td>185</td>\n    </tr>\n    <tr>\n      <th>2</th>\n      <td>around_the_world.wav</td>\n      <td>Around the World</td>\n      <td>ATC</td>\n      <td>132</td>\n      <td>132</td>\n      <td>128</td>\n      <td>132</td>\n      <td>129</td>\n    </tr>\n    <tr>\n      <th>3</th>\n      <td>baby_shark.wav</td>\n      <td>Baby Shark</td>\n      <td>Pinkfong</td>\n      <td>115</td>\n      <td>115</td>\n      <td>113</td>\n      <td>115</td>\n      <td>112</td>\n    </tr>\n    <tr>\n      <th>4</th>\n      <td>beautiful_life.wav</td>\n      <td>Beautiful Life</td>\n      <td>Ace of Base</td>\n      <td>135</td>\n      <td>135</td>\n      <td>131</td>\n      <td>152</td>\n      <td>67</td>\n    </tr>\n    <tr>\n      <th>5</th>\n      <td>believer.wav</td>\n      <td>Believer</td>\n      <td>Imagine Dragons</td>\n      <td>125</td>\n      <td>125</td>\n      <td>122</td>\n      <td>125</td>\n      <td>122</td>\n    </tr>\n    <tr>\n      <th>6</th>\n      <td>call_me_maybe.wav</td>\n      <td>Call Me Maybe</td>\n      <td>Carly Rae Jepsen</td>\n      <td>120</td>\n      <td>120</td>\n      <td>117</td>\n      <td>180</td>\n      <td>117</td>\n    </tr>\n    <tr>\n      <th>7</th>\n      <td>cant_stop_the_feeling.wav</td>\n      <td>Can't Stop the Feeling!</td>\n      <td>Justin Timberlake</td>\n      <td>113</td>\n      <td>113</td>\n      <td>111</td>\n      <td>113</td>\n      <td>111</td>\n    </tr>\n    <tr>\n      <th>8</th>\n      <td>dont_speak.wav</td>\n      <td>Don't Speak</td>\n      <td>No Doubt</td>\n      <td>76</td>\n      <td>76</td>\n      <td>100</td>\n      <td>152</td>\n      <td>75</td>\n    </tr>\n    <tr>\n      <th>9</th>\n      <td>evangeline.wav</td>\n      <td>Evangeline</td>\n      <td>Matthew Sweet</td>\n      <td>175</td>\n      <td>175</td>\n      <td>86</td>\n      <td>175</td>\n      <td>87</td>\n    </tr>\n    <tr>\n      <th>10</th>\n      <td>faded.wav</td>\n      <td>Faded</td>\n      <td>Alan Walker</td>\n      <td>90</td>\n      <td>180</td>\n      <td>88</td>\n      <td>180</td>\n      <td>89</td>\n    </tr>\n    <tr>\n      <th>11</th>\n      <td>firework.wav</td>\n      <td>Firework</td>\n      <td>Katy Perry</td>\n      <td>124</td>\n      <td>124</td>\n      <td>121</td>\n      <td>124</td>\n      <td>121</td>\n    </tr>\n    <tr>\n      <th>12</th>\n      <td>hollaback_girl.wav</td>\n      <td>Hollaback Girl</td>\n      <td>Gwen Stefani</td>\n      <td>110</td>\n      <td>82</td>\n      <td>72</td>\n      <td>165</td>\n      <td>72</td>\n    </tr>\n    <tr>\n      <th>13</th>\n      <td>i_ran_so_far_away.wav</td>\n      <td>I Ran (So Far Away)</td>\n      <td>A Flock Of Seagulls</td>\n      <td>146</td>\n      <td>147</td>\n      <td>143</td>\n      <td>146</td>\n      <td>142</td>\n    </tr>\n    <tr>\n      <th>14</th>\n      <td>im_still_standing.wav</td>\n      <td>I'm Still Standing</td>\n      <td>Elton John</td>\n      <td>177</td>\n      <td>178</td>\n      <td>87</td>\n      <td>178</td>\n      <td>87</td>\n    </tr>\n    <tr>\n      <th>15</th>\n      <td>its_my_life.wav</td>\n      <td>It's My Life</td>\n      <td>Bon Jovi</td>\n      <td>120</td>\n      <td>120</td>\n      <td>59</td>\n      <td>120</td>\n      <td>117</td>\n    </tr>\n    <tr>\n      <th>16</th>\n      <td>love_you_like_a_love_song.wav</td>\n      <td>Love You Like a Love Song</td>\n      <td>Selena Gomez</td>\n      <td>117</td>\n      <td>117</td>\n      <td>114</td>\n      <td>117</td>\n      <td>114</td>\n    </tr>\n    <tr>\n      <th>17</th>\n      <td>mambo_no_5.wav</td>\n      <td>Mambo No. 5</td>\n      <td>Lou Bega</td>\n      <td>174</td>\n      <td>174</td>\n      <td>86</td>\n      <td>174</td>\n      <td>167</td>\n    </tr>\n    <tr>\n      <th>18</th>\n      <td>on_my_way.wav</td>\n      <td>On My Way</td>\n      <td>Sabrina Carpenter, Alan Walker, Farruko</td>\n      <td>170</td>\n      <td>127</td>\n      <td>42</td>\n      <td>128</td>\n      <td>42</td>\n    </tr>\n    <tr>\n      <th>19</th>\n      <td>seven_nation_army.wav</td>\n      <td>Seven Nation Army</td>\n      <td>The White Stripes</td>\n      <td>124</td>\n      <td>123</td>\n      <td>121</td>\n      <td>124</td>\n      <td>61</td>\n    </tr>\n    <tr>\n      <th>20</th>\n      <td>shake_it_off.wav</td>\n      <td>Shake It Off</td>\n      <td>Taylor Swift</td>\n      <td>160</td>\n      <td>120</td>\n      <td>105</td>\n      <td>160</td>\n      <td>79</td>\n    </tr>\n    <tr>\n      <th>21</th>\n      <td>spark.wav</td>\n      <td>Spark</td>\n      <td>Vexento</td>\n      <td>117</td>\n      <td>117</td>\n      <td>115</td>\n      <td>117</td>\n      <td>58</td>\n    </tr>\n    <tr>\n      <th>22</th>\n      <td>stereo_hearts.wav</td>\n      <td>Stereo Hearts</td>\n      <td>Gym Class Heroes</td>\n      <td>90</td>\n      <td>180</td>\n      <td>89</td>\n      <td>180</td>\n      <td>45</td>\n    </tr>\n    <tr>\n      <th>23</th>\n      <td>temple_of_love.wav</td>\n      <td>Temple of Love</td>\n      <td>The Sisters of Mercy</td>\n      <td>166</td>\n      <td>166</td>\n      <td>82</td>\n      <td>166</td>\n      <td>82</td>\n    </tr>\n    <tr>\n      <th>24</th>\n      <td>thunder.wav</td>\n      <td>Thunder</td>\n      <td>Imagine Dragons</td>\n      <td>168</td>\n      <td>105</td>\n      <td>55</td>\n      <td>168</td>\n      <td>42</td>\n    </tr>\n    <tr>\n      <th>25</th>\n      <td>thunder2.wav</td>\n      <td>Thunder</td>\n      <td>Gabry Ponte, Prezioso, LUM!X</td>\n      <td>135</td>\n      <td>135</td>\n      <td>131</td>\n      <td>135</td>\n      <td>133</td>\n    </tr>\n    <tr>\n      <th>26</th>\n      <td>uptown_funk.wav</td>\n      <td>Uptown Funk</td>\n      <td>Mark Ronson, Bruno Mars</td>\n      <td>115</td>\n      <td>115</td>\n      <td>113</td>\n      <td>115</td>\n      <td>113</td>\n    </tr>\n    <tr>\n      <th>27</th>\n      <td>valhalla_calling_me.wav</td>\n      <td>Valhalla Calling Me</td>\n      <td>Miracle of Sound</td>\n      <td>152</td>\n      <td>152</td>\n      <td>149</td>\n      <td>152</td>\n      <td>75</td>\n    </tr>\n    <tr>\n      <th>28</th>\n      <td>we_will_rock_you.wav</td>\n      <td>We Will Rock You</td>\n      <td>Queen</td>\n      <td>81</td>\n      <td>163</td>\n      <td>40</td>\n      <td>163</td>\n      <td>40</td>\n    </tr>\n    <tr>\n      <th>29</th>\n      <td>without_you.wav</td>\n      <td>Without You</td>\n      <td>Avicii</td>\n      <td>134</td>\n      <td>134</td>\n      <td>131</td>\n      <td>134</td>\n      <td>131</td>\n    </tr>\n    <tr>\n      <th>30</th>\n      <td>ymca.wav</td>\n      <td>Y.M.C.A.</td>\n      <td>Village People</td>\n      <td>127</td>\n      <td>127</td>\n      <td>124</td>\n      <td>127</td>\n      <td>63</td>\n    </tr>\n  </tbody>\n</table>\n</div>"
     },
     "execution_count": 5,
     "metadata": {},
     "output_type": "execute_result"
    }
   ],
   "source": [
    "df = pd.DataFrame.from_dict(songs)\n",
    "# df.to_csv(\"tempograms.csv\")\n",
    "df"
   ],
   "metadata": {
    "collapsed": false,
    "ExecuteTime": {
     "end_time": "2024-05-07T23:58:07.695992500Z",
     "start_time": "2024-05-07T23:58:07.683682200Z"
    }
   },
   "id": "518e391914768142"
  },
  {
   "cell_type": "markdown",
   "source": [
    "Now, we have to calculate differences from the real tempo for each calculated value. We have to take into account that multiples and divisors are also possibly correct values."
   ],
   "metadata": {
    "collapsed": false
   },
   "id": "2ff40a6c040ebe1e"
  },
  {
   "cell_type": "code",
   "execution_count": 6,
   "outputs": [
    {
     "data": {
      "text/plain": "                         filename                       name  \\\n0                      africa.wav                     Africa   \n1                       alone.wav                      Alone   \n2            around_the_world.wav           Around the World   \n3                  baby_shark.wav                 Baby Shark   \n4              beautiful_life.wav             Beautiful Life   \n5                    believer.wav                   Believer   \n6               call_me_maybe.wav              Call Me Maybe   \n7       cant_stop_the_feeling.wav    Can't Stop the Feeling!   \n8                  dont_speak.wav                Don't Speak   \n9                  evangeline.wav                 Evangeline   \n10                      faded.wav                      Faded   \n11                   firework.wav                   Firework   \n12             hollaback_girl.wav             Hollaback Girl   \n13          i_ran_so_far_away.wav        I Ran (So Far Away)   \n14          im_still_standing.wav         I'm Still Standing   \n15                its_my_life.wav               It's My Life   \n16  love_you_like_a_love_song.wav  Love You Like a Love Song   \n17                 mambo_no_5.wav                Mambo No. 5   \n18                  on_my_way.wav                  On My Way   \n19          seven_nation_army.wav          Seven Nation Army   \n20               shake_it_off.wav               Shake It Off   \n21                      spark.wav                      Spark   \n22              stereo_hearts.wav              Stereo Hearts   \n23             temple_of_love.wav             Temple of Love   \n24                    thunder.wav                    Thunder   \n25                   thunder2.wav                    Thunder   \n26                uptown_funk.wav                Uptown Funk   \n27        valhalla_calling_me.wav        Valhalla Calling Me   \n28           we_will_rock_you.wav           We Will Rock You   \n29                without_you.wav                Without You   \n30                       ymca.wav                   Y.M.C.A.   \n\n                                     artist  tempo  fourier-energy  \\\n0                                      Toto     92              92   \n1                               Alan Walker     97             194   \n2                                       ATC    132             132   \n3                                  Pinkfong    115             115   \n4                               Ace of Base    135             135   \n5                           Imagine Dragons    125             125   \n6                          Carly Rae Jepsen    120             120   \n7                         Justin Timberlake    113             113   \n8                                  No Doubt     76              76   \n9                             Matthew Sweet    175             175   \n10                              Alan Walker     90             180   \n11                               Katy Perry    124             124   \n12                             Gwen Stefani    110              82   \n13                      A Flock Of Seagulls    146             147   \n14                               Elton John    177             178   \n15                                 Bon Jovi    120             120   \n16                             Selena Gomez    117             117   \n17                                 Lou Bega    174             174   \n18  Sabrina Carpenter, Alan Walker, Farruko    170             127   \n19                        The White Stripes    124             123   \n20                             Taylor Swift    160             120   \n21                                  Vexento    117             117   \n22                         Gym Class Heroes     90             180   \n23                     The Sisters of Mercy    166             166   \n24                          Imagine Dragons    168             105   \n25             Gabry Ponte, Prezioso, LUM!X    135             135   \n26                  Mark Ronson, Bruno Mars    115             115   \n27                         Miracle of Sound    152             152   \n28                                    Queen     81             163   \n29                                   Avicii    134             134   \n30                           Village People    127             127   \n\n    autocorrelation-energy  fourier-spectral  autocorrelation-spectral  \\\n0                       46               185                        91   \n1                       48               194                       185   \n2                      128               132                       129   \n3                      113               115                       112   \n4                      131               152                        67   \n5                      122               125                       122   \n6                      117               180                       117   \n7                      111               113                       111   \n8                      100               152                        75   \n9                       86               175                        87   \n10                      88               180                        89   \n11                     121               124                       121   \n12                      72               165                        72   \n13                     143               146                       142   \n14                      87               178                        87   \n15                      59               120                       117   \n16                     114               117                       114   \n17                      86               174                       167   \n18                      42               128                        42   \n19                     121               124                        61   \n20                     105               160                        79   \n21                     115               117                        58   \n22                      89               180                        45   \n23                      82               166                        82   \n24                      55               168                        42   \n25                     131               135                       133   \n26                     113               115                       113   \n27                     149               152                        75   \n28                      40               163                        40   \n29                     131               134                       131   \n30                     124               127                        63   \n\n    diff_fs  diff_as  diff_fe  diff_ae  \n0         1        1        0        0  \n1         0        9        0        1  \n2         0        3        0        4  \n3         0        3        0        2  \n4        17        1        0        4  \n5         0        3        0        3  \n6        60        3        0        3  \n7         0        2        0        2  \n8         0        1        0       24  \n9         0        1        0        3  \n10        0        1        0        2  \n11        0        3        0        3  \n12       55       34       28       34  \n13        0        4        1        3  \n14        1        3        1        3  \n15        0        3        0        2  \n16        0        3        0        3  \n17        0        7        0        2  \n18       42        2       43        2  \n19        0        2        1        3  \n20        0        2       40       50  \n21        0        1        0        2  \n22        0        0        0        1  \n23        0        2        0        2  \n24        0        0       42        3  \n25        0        2        0        4  \n26        0        2        0        2  \n27        0        2        0        3  \n28        1        1        1        1  \n29        0        3        0        3  \n30        0        1        0        3  ",
      "text/html": "<div>\n<style scoped>\n    .dataframe tbody tr th:only-of-type {\n        vertical-align: middle;\n    }\n\n    .dataframe tbody tr th {\n        vertical-align: top;\n    }\n\n    .dataframe thead th {\n        text-align: right;\n    }\n</style>\n<table border=\"1\" class=\"dataframe\">\n  <thead>\n    <tr style=\"text-align: right;\">\n      <th></th>\n      <th>filename</th>\n      <th>name</th>\n      <th>artist</th>\n      <th>tempo</th>\n      <th>fourier-energy</th>\n      <th>autocorrelation-energy</th>\n      <th>fourier-spectral</th>\n      <th>autocorrelation-spectral</th>\n      <th>diff_fs</th>\n      <th>diff_as</th>\n      <th>diff_fe</th>\n      <th>diff_ae</th>\n    </tr>\n  </thead>\n  <tbody>\n    <tr>\n      <th>0</th>\n      <td>africa.wav</td>\n      <td>Africa</td>\n      <td>Toto</td>\n      <td>92</td>\n      <td>92</td>\n      <td>46</td>\n      <td>185</td>\n      <td>91</td>\n      <td>1</td>\n      <td>1</td>\n      <td>0</td>\n      <td>0</td>\n    </tr>\n    <tr>\n      <th>1</th>\n      <td>alone.wav</td>\n      <td>Alone</td>\n      <td>Alan Walker</td>\n      <td>97</td>\n      <td>194</td>\n      <td>48</td>\n      <td>194</td>\n      <td>185</td>\n      <td>0</td>\n      <td>9</td>\n      <td>0</td>\n      <td>1</td>\n    </tr>\n    <tr>\n      <th>2</th>\n      <td>around_the_world.wav</td>\n      <td>Around the World</td>\n      <td>ATC</td>\n      <td>132</td>\n      <td>132</td>\n      <td>128</td>\n      <td>132</td>\n      <td>129</td>\n      <td>0</td>\n      <td>3</td>\n      <td>0</td>\n      <td>4</td>\n    </tr>\n    <tr>\n      <th>3</th>\n      <td>baby_shark.wav</td>\n      <td>Baby Shark</td>\n      <td>Pinkfong</td>\n      <td>115</td>\n      <td>115</td>\n      <td>113</td>\n      <td>115</td>\n      <td>112</td>\n      <td>0</td>\n      <td>3</td>\n      <td>0</td>\n      <td>2</td>\n    </tr>\n    <tr>\n      <th>4</th>\n      <td>beautiful_life.wav</td>\n      <td>Beautiful Life</td>\n      <td>Ace of Base</td>\n      <td>135</td>\n      <td>135</td>\n      <td>131</td>\n      <td>152</td>\n      <td>67</td>\n      <td>17</td>\n      <td>1</td>\n      <td>0</td>\n      <td>4</td>\n    </tr>\n    <tr>\n      <th>5</th>\n      <td>believer.wav</td>\n      <td>Believer</td>\n      <td>Imagine Dragons</td>\n      <td>125</td>\n      <td>125</td>\n      <td>122</td>\n      <td>125</td>\n      <td>122</td>\n      <td>0</td>\n      <td>3</td>\n      <td>0</td>\n      <td>3</td>\n    </tr>\n    <tr>\n      <th>6</th>\n      <td>call_me_maybe.wav</td>\n      <td>Call Me Maybe</td>\n      <td>Carly Rae Jepsen</td>\n      <td>120</td>\n      <td>120</td>\n      <td>117</td>\n      <td>180</td>\n      <td>117</td>\n      <td>60</td>\n      <td>3</td>\n      <td>0</td>\n      <td>3</td>\n    </tr>\n    <tr>\n      <th>7</th>\n      <td>cant_stop_the_feeling.wav</td>\n      <td>Can't Stop the Feeling!</td>\n      <td>Justin Timberlake</td>\n      <td>113</td>\n      <td>113</td>\n      <td>111</td>\n      <td>113</td>\n      <td>111</td>\n      <td>0</td>\n      <td>2</td>\n      <td>0</td>\n      <td>2</td>\n    </tr>\n    <tr>\n      <th>8</th>\n      <td>dont_speak.wav</td>\n      <td>Don't Speak</td>\n      <td>No Doubt</td>\n      <td>76</td>\n      <td>76</td>\n      <td>100</td>\n      <td>152</td>\n      <td>75</td>\n      <td>0</td>\n      <td>1</td>\n      <td>0</td>\n      <td>24</td>\n    </tr>\n    <tr>\n      <th>9</th>\n      <td>evangeline.wav</td>\n      <td>Evangeline</td>\n      <td>Matthew Sweet</td>\n      <td>175</td>\n      <td>175</td>\n      <td>86</td>\n      <td>175</td>\n      <td>87</td>\n      <td>0</td>\n      <td>1</td>\n      <td>0</td>\n      <td>3</td>\n    </tr>\n    <tr>\n      <th>10</th>\n      <td>faded.wav</td>\n      <td>Faded</td>\n      <td>Alan Walker</td>\n      <td>90</td>\n      <td>180</td>\n      <td>88</td>\n      <td>180</td>\n      <td>89</td>\n      <td>0</td>\n      <td>1</td>\n      <td>0</td>\n      <td>2</td>\n    </tr>\n    <tr>\n      <th>11</th>\n      <td>firework.wav</td>\n      <td>Firework</td>\n      <td>Katy Perry</td>\n      <td>124</td>\n      <td>124</td>\n      <td>121</td>\n      <td>124</td>\n      <td>121</td>\n      <td>0</td>\n      <td>3</td>\n      <td>0</td>\n      <td>3</td>\n    </tr>\n    <tr>\n      <th>12</th>\n      <td>hollaback_girl.wav</td>\n      <td>Hollaback Girl</td>\n      <td>Gwen Stefani</td>\n      <td>110</td>\n      <td>82</td>\n      <td>72</td>\n      <td>165</td>\n      <td>72</td>\n      <td>55</td>\n      <td>34</td>\n      <td>28</td>\n      <td>34</td>\n    </tr>\n    <tr>\n      <th>13</th>\n      <td>i_ran_so_far_away.wav</td>\n      <td>I Ran (So Far Away)</td>\n      <td>A Flock Of Seagulls</td>\n      <td>146</td>\n      <td>147</td>\n      <td>143</td>\n      <td>146</td>\n      <td>142</td>\n      <td>0</td>\n      <td>4</td>\n      <td>1</td>\n      <td>3</td>\n    </tr>\n    <tr>\n      <th>14</th>\n      <td>im_still_standing.wav</td>\n      <td>I'm Still Standing</td>\n      <td>Elton John</td>\n      <td>177</td>\n      <td>178</td>\n      <td>87</td>\n      <td>178</td>\n      <td>87</td>\n      <td>1</td>\n      <td>3</td>\n      <td>1</td>\n      <td>3</td>\n    </tr>\n    <tr>\n      <th>15</th>\n      <td>its_my_life.wav</td>\n      <td>It's My Life</td>\n      <td>Bon Jovi</td>\n      <td>120</td>\n      <td>120</td>\n      <td>59</td>\n      <td>120</td>\n      <td>117</td>\n      <td>0</td>\n      <td>3</td>\n      <td>0</td>\n      <td>2</td>\n    </tr>\n    <tr>\n      <th>16</th>\n      <td>love_you_like_a_love_song.wav</td>\n      <td>Love You Like a Love Song</td>\n      <td>Selena Gomez</td>\n      <td>117</td>\n      <td>117</td>\n      <td>114</td>\n      <td>117</td>\n      <td>114</td>\n      <td>0</td>\n      <td>3</td>\n      <td>0</td>\n      <td>3</td>\n    </tr>\n    <tr>\n      <th>17</th>\n      <td>mambo_no_5.wav</td>\n      <td>Mambo No. 5</td>\n      <td>Lou Bega</td>\n      <td>174</td>\n      <td>174</td>\n      <td>86</td>\n      <td>174</td>\n      <td>167</td>\n      <td>0</td>\n      <td>7</td>\n      <td>0</td>\n      <td>2</td>\n    </tr>\n    <tr>\n      <th>18</th>\n      <td>on_my_way.wav</td>\n      <td>On My Way</td>\n      <td>Sabrina Carpenter, Alan Walker, Farruko</td>\n      <td>170</td>\n      <td>127</td>\n      <td>42</td>\n      <td>128</td>\n      <td>42</td>\n      <td>42</td>\n      <td>2</td>\n      <td>43</td>\n      <td>2</td>\n    </tr>\n    <tr>\n      <th>19</th>\n      <td>seven_nation_army.wav</td>\n      <td>Seven Nation Army</td>\n      <td>The White Stripes</td>\n      <td>124</td>\n      <td>123</td>\n      <td>121</td>\n      <td>124</td>\n      <td>61</td>\n      <td>0</td>\n      <td>2</td>\n      <td>1</td>\n      <td>3</td>\n    </tr>\n    <tr>\n      <th>20</th>\n      <td>shake_it_off.wav</td>\n      <td>Shake It Off</td>\n      <td>Taylor Swift</td>\n      <td>160</td>\n      <td>120</td>\n      <td>105</td>\n      <td>160</td>\n      <td>79</td>\n      <td>0</td>\n      <td>2</td>\n      <td>40</td>\n      <td>50</td>\n    </tr>\n    <tr>\n      <th>21</th>\n      <td>spark.wav</td>\n      <td>Spark</td>\n      <td>Vexento</td>\n      <td>117</td>\n      <td>117</td>\n      <td>115</td>\n      <td>117</td>\n      <td>58</td>\n      <td>0</td>\n      <td>1</td>\n      <td>0</td>\n      <td>2</td>\n    </tr>\n    <tr>\n      <th>22</th>\n      <td>stereo_hearts.wav</td>\n      <td>Stereo Hearts</td>\n      <td>Gym Class Heroes</td>\n      <td>90</td>\n      <td>180</td>\n      <td>89</td>\n      <td>180</td>\n      <td>45</td>\n      <td>0</td>\n      <td>0</td>\n      <td>0</td>\n      <td>1</td>\n    </tr>\n    <tr>\n      <th>23</th>\n      <td>temple_of_love.wav</td>\n      <td>Temple of Love</td>\n      <td>The Sisters of Mercy</td>\n      <td>166</td>\n      <td>166</td>\n      <td>82</td>\n      <td>166</td>\n      <td>82</td>\n      <td>0</td>\n      <td>2</td>\n      <td>0</td>\n      <td>2</td>\n    </tr>\n    <tr>\n      <th>24</th>\n      <td>thunder.wav</td>\n      <td>Thunder</td>\n      <td>Imagine Dragons</td>\n      <td>168</td>\n      <td>105</td>\n      <td>55</td>\n      <td>168</td>\n      <td>42</td>\n      <td>0</td>\n      <td>0</td>\n      <td>42</td>\n      <td>3</td>\n    </tr>\n    <tr>\n      <th>25</th>\n      <td>thunder2.wav</td>\n      <td>Thunder</td>\n      <td>Gabry Ponte, Prezioso, LUM!X</td>\n      <td>135</td>\n      <td>135</td>\n      <td>131</td>\n      <td>135</td>\n      <td>133</td>\n      <td>0</td>\n      <td>2</td>\n      <td>0</td>\n      <td>4</td>\n    </tr>\n    <tr>\n      <th>26</th>\n      <td>uptown_funk.wav</td>\n      <td>Uptown Funk</td>\n      <td>Mark Ronson, Bruno Mars</td>\n      <td>115</td>\n      <td>115</td>\n      <td>113</td>\n      <td>115</td>\n      <td>113</td>\n      <td>0</td>\n      <td>2</td>\n      <td>0</td>\n      <td>2</td>\n    </tr>\n    <tr>\n      <th>27</th>\n      <td>valhalla_calling_me.wav</td>\n      <td>Valhalla Calling Me</td>\n      <td>Miracle of Sound</td>\n      <td>152</td>\n      <td>152</td>\n      <td>149</td>\n      <td>152</td>\n      <td>75</td>\n      <td>0</td>\n      <td>2</td>\n      <td>0</td>\n      <td>3</td>\n    </tr>\n    <tr>\n      <th>28</th>\n      <td>we_will_rock_you.wav</td>\n      <td>We Will Rock You</td>\n      <td>Queen</td>\n      <td>81</td>\n      <td>163</td>\n      <td>40</td>\n      <td>163</td>\n      <td>40</td>\n      <td>1</td>\n      <td>1</td>\n      <td>1</td>\n      <td>1</td>\n    </tr>\n    <tr>\n      <th>29</th>\n      <td>without_you.wav</td>\n      <td>Without You</td>\n      <td>Avicii</td>\n      <td>134</td>\n      <td>134</td>\n      <td>131</td>\n      <td>134</td>\n      <td>131</td>\n      <td>0</td>\n      <td>3</td>\n      <td>0</td>\n      <td>3</td>\n    </tr>\n    <tr>\n      <th>30</th>\n      <td>ymca.wav</td>\n      <td>Y.M.C.A.</td>\n      <td>Village People</td>\n      <td>127</td>\n      <td>127</td>\n      <td>124</td>\n      <td>127</td>\n      <td>63</td>\n      <td>0</td>\n      <td>1</td>\n      <td>0</td>\n      <td>3</td>\n    </tr>\n  </tbody>\n</table>\n</div>"
     },
     "execution_count": 6,
     "metadata": {},
     "output_type": "execute_result"
    }
   ],
   "source": [
    "fourier_spectral_correct = 0\n",
    "fourier_spectral_almost_correct = 0\n",
    "autocorrelation_spectral_correct = 0\n",
    "autocorrelation_spectral_almost_correct = 0\n",
    "\n",
    "fourier_energy_correct = 0\n",
    "fourier_energy_almost_correct = 0\n",
    "autocorrelation_energy_correct = 0\n",
    "autocorrelation_energy_almost_correct = 0\n",
    "\n",
    "def difference(correct_value, calculated_value):\n",
    "    if correct_value > calculated_value:\n",
    "        correct_value, calculated_value = calculated_value, correct_value  # swap\n",
    "        \n",
    "    diff = calculated_value % correct_value\n",
    "    \n",
    "    if correct_value - diff < diff:\n",
    "        diff = correct_value - diff\n",
    "    \n",
    "    return diff\n",
    "\n",
    "diff_fs = []\n",
    "diff_as = []\n",
    "diff_fe = []\n",
    "diff_ae = []\n",
    "\n",
    "for song in songs:\n",
    "    tempo = song[\"tempo\"]\n",
    "    diff_fs.append(difference(tempo, song[\"fourier-spectral\"]))\n",
    "    diff_as.append(difference(tempo, song[\"autocorrelation-spectral\"]))\n",
    "    diff_fe.append(difference(tempo, song[\"fourier-energy\"]))\n",
    "    diff_ae.append(difference(tempo, song[\"autocorrelation-energy\"]))\n",
    "                   \n",
    "df[\"diff_fs\"] = diff_fs\n",
    "df[\"diff_as\"] = diff_as\n",
    "df[\"diff_fe\"] = diff_fe\n",
    "df[\"diff_ae\"] = diff_ae\n",
    "df"
   ],
   "metadata": {
    "collapsed": false,
    "ExecuteTime": {
     "end_time": "2024-05-07T23:58:07.718174200Z",
     "start_time": "2024-05-07T23:58:07.695992500Z"
    }
   },
   "id": "2581c505dfffa565"
  },
  {
   "cell_type": "code",
   "execution_count": 7,
   "outputs": [
    {
     "name": "stdout",
     "output_type": "stream",
     "text": [
      "Correct fourier spectral : 24\n",
      "Correct and almost correct fourier spectral : 27\n",
      "Correct autocorrelation spectral : 2\n",
      "Correct and almost correct autocorrelation spectral : 18\n",
      "Correct fourier energy : 23\n",
      "Correct and almost correct fourier energy : 27\n",
      "Correct autocorrelation energy : 1\n",
      "Correct and almost correct autocorrelation energy : 13\n"
     ]
    }
   ],
   "source": [
    "def print_correct_and_almost_correct(col_name, approach_tempo, approach_novelty):\n",
    "    correct = len(df.loc[df[col_name] == 0])\n",
    "    correct_and_almost_correct = len(df.loc[df[col_name] <= 2])\n",
    "    print(\"Correct\", approach_tempo, approach_novelty, \":\", correct)\n",
    "    print(\"Correct and almost correct\", approach_tempo, approach_novelty, \":\", correct_and_almost_correct)\n",
    "    \n",
    "print_correct_and_almost_correct(\"diff_fs\", \"fourier\", \"spectral\")\n",
    "print_correct_and_almost_correct(\"diff_as\", \"autocorrelation\", \"spectral\")\n",
    "\n",
    "print_correct_and_almost_correct(\"diff_fe\", \"fourier\", \"energy\")\n",
    "print_correct_and_almost_correct(\"diff_ae\", \"autocorrelation\", \"energy\")\n"
   ],
   "metadata": {
    "collapsed": false,
    "ExecuteTime": {
     "end_time": "2024-05-07T23:58:07.738419800Z",
     "start_time": "2024-05-07T23:58:07.709616Z"
    }
   },
   "id": "432db1dd19e87da7"
  },
  {
   "cell_type": "code",
   "execution_count": 8,
   "outputs": [],
   "source": [
    "df = pd.DataFrame.from_dict(songs)\n",
    "df = df.set_index([\"name\", \"artist\"])\n",
    "df = df.drop(columns=[\"filename\"])\n",
    "df.to_csv(\"tempograms.csv\")\n",
    "df"
   ],
   "metadata": {
    "collapsed": false,
    "ExecuteTime": {
     "end_time": "2024-05-07T23:58:07.770416400Z",
     "start_time": "2024-05-07T23:58:07.717087100Z"
    }
   },
   "id": "3beef6ca82ca0f7f"
  },
  {
   "cell_type": "code",
   "execution_count": 8,
   "outputs": [],
   "source": [],
   "metadata": {
    "collapsed": false,
    "ExecuteTime": {
     "end_time": "2024-05-07T23:58:07.790468100Z",
     "start_time": "2024-05-07T23:58:07.720598300Z"
    }
   },
   "id": "1e7a5f34bb0d6423"
  }
 ],
 "metadata": {
  "kernelspec": {
   "display_name": "Python 3",
   "language": "python",
   "name": "python3"
  },
  "language_info": {
   "codemirror_mode": {
    "name": "ipython",
    "version": 2
   },
   "file_extension": ".py",
   "mimetype": "text/x-python",
   "name": "python",
   "nbconvert_exporter": "python",
   "pygments_lexer": "ipython2",
   "version": "2.7.6"
  }
 },
 "nbformat": 4,
 "nbformat_minor": 5
}
