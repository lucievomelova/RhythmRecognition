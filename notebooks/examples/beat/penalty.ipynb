{
 "cells": [
  {
   "cell_type": "markdown",
   "source": [
    "# Penalty-based beat detection\n",
    "Beat is specified by the phase and the period. Period is simply $60/\\tau$ (where $\\tau$ is the tempo). Phase specifies a time shift of the beat sinusoid from 0. \n",
    "\n",
    "In the penalty-based approach, we try all possible time shifts (or not all, but those that make sense in our case), give each one a score and then pick the one with the highest score. But instead of simply awarding 0 or 1 score point like in the score-based approach, we will award a number of points based on how far the closest note onset candidate is from current time click. The closer the candidate is, the more points it gets. To do that, we will use a penalty function."
   ],
   "metadata": {
    "collapsed": false
   },
   "id": "4196a3272decbebf"
  },
  {
   "cell_type": "code",
   "execution_count": null,
   "outputs": [],
   "source": [
    "import librosa\n",
    "from matplotlib import pyplot as plt\n",
    "import matplotlib as mpl\n",
    "from RhythmRecognition.onset import spectral\n",
    "from RhythmRecognition.tempo import fourier\n",
    "from RhythmRecognition.beat import penalty\n",
    "from RhythmRecognition.beat.click_track import *\n",
    "from RhythmRecognition.constants import *\n",
    "import IPython.display as ipd\n",
    "\n",
    "mpl.rcParams.update({'font.size': 16})\n",
    "\n",
    "audiofile = \"../audio_files/spark.wav\"\n"
   ],
   "metadata": {
    "collapsed": false,
    "is_executing": true
   },
   "id": "46d6c0f47a6fb0dd"
  },
  {
   "cell_type": "markdown",
   "source": [
    "## Compute novelty function\n",
    "First step is to compute a novelty function of the audio signal."
   ],
   "metadata": {
    "collapsed": false
   },
   "id": "f560af7720bf0be3"
  },
  {
   "cell_type": "code",
   "execution_count": null,
   "outputs": [],
   "source": [
    "novelty_function = spectral.SpectralNovelty(audiofile)\n",
    "novelty_function = novelty_function.get()\n",
    "\n",
    "frames = np.arange(len(novelty_function))\n",
    "t = librosa.frames_to_time(frames, sr=SAMPLING_RATE, hop_length=HOP_LENGTH)\n",
    "\n",
    "plt.figure(figsize=(12, 3))\n",
    "plt.plot(t, novelty_function, 'purple')\n",
    "plt.xlim(30, 40)\n",
    "plt.xlabel(\"Time (s)\")\n",
    "plt.title(\"Spectral-based novelty function\")\n",
    "plt.show()"
   ],
   "metadata": {
    "collapsed": false,
    "ExecuteTime": {
     "start_time": "2024-05-05T22:36:49.638586800Z"
    }
   },
   "id": "ec4bc5984fa08e0a"
  },
  {
   "cell_type": "markdown",
   "source": [
    "## Compute tempogram\n",
    "Then, we need to compute a tempogram of the song. We will use the Fourier-based tempogram, since it gives the best results."
   ],
   "metadata": {
    "collapsed": false
   },
   "id": "d8756e75975f5e1"
  },
  {
   "cell_type": "code",
   "execution_count": null,
   "outputs": [],
   "source": [
    "fourier_tempogram = fourier.FourierTempogram(novelty_function)\n",
    "tempogram = fourier_tempogram.get_tempogram()\n",
    "\n",
    "plt.figure(figsize=(12, 6))\n",
    "librosa.display.specshow(tempogram, x_axis='time', y_axis='fourier_tempo', sr=SAMPLING_RATE, cmap='magma')\n",
    "plt.xlabel(\"Time (s)\")\n",
    "plt.xlim(10, 20)\n",
    "plt.title(\"Fourier-based tempogram\")\n",
    "plt.show()"
   ],
   "metadata": {
    "collapsed": false,
    "ExecuteTime": {
     "start_time": "2024-05-05T22:36:49.638586800Z"
    }
   },
   "id": "38f32df71f6639fa"
  },
  {
   "cell_type": "markdown",
   "source": [
    "Then, we can extract the most dominant tempo from the tempogram (correct value is 117 BPM)."
   ],
   "metadata": {
    "collapsed": false
   },
   "id": "70e3774e67b99a28"
  },
  {
   "cell_type": "code",
   "execution_count": null,
   "outputs": [],
   "source": [
    "tempo = fourier_tempogram.get_tempo()\n",
    "print(tempo)"
   ],
   "metadata": {
    "collapsed": false,
    "ExecuteTime": {
     "start_time": "2024-05-05T22:36:49.646479400Z"
    }
   },
   "id": "2304bb80ff4f3bf1"
  },
  {
   "cell_type": "markdown",
   "source": [
    "## Beat detection\n",
    "After computing the tempogram and obtaining the most dominant tempo, we can move to beat detection. \n",
    "\n",
    "### Beat time shift\n",
    "We can compute the beat time shift. Correct time shift is 0 seconds, but small errors (difference smaller than ~10 ms) are not detectable by human ears, so results with small errors are still classified as correct."
   ],
   "metadata": {
    "collapsed": false
   },
   "id": "c19bc7766c0bc885"
  },
  {
   "cell_type": "code",
   "execution_count": null,
   "outputs": [],
   "source": [
    "beat_tracker = penalty.PenaltyBeatTracker(novelty_function, tempo=tempo)\n",
    "shift = beat_tracker.get_time_shift()\n",
    "print(\"Time shift:\", shift, \"seconds.\")"
   ],
   "metadata": {
    "collapsed": false,
    "ExecuteTime": {
     "start_time": "2024-05-05T22:36:49.646479400Z"
    }
   },
   "id": "d307e1842fd27a1d"
  },
  {
   "cell_type": "markdown",
   "source": [
    "### Generate beat track over audio\n",
    "We can generate a beat track over our song and listen to it to check if the found time shift is correct."
   ],
   "metadata": {
    "collapsed": false
   },
   "id": "f8bba10e7e4a57d7"
  },
  {
   "cell_type": "code",
   "execution_count": null,
   "outputs": [],
   "source": [
    "beat_track = beat_tracker.get_beat_track()  # get beat track\n",
    "\n",
    "# load part of the audio signal\n",
    "# unfortunately, ipd.Audio cannot generate the whole song with beat track over it, so we need to load a shorter part\n",
    "signal, sr = librosa.load(audiofile, duration=30, sr=SAMPLING_RATE)\n",
    "\n",
    "# create click track from beat times\n",
    "click_track = librosa.clicks(times=beat_track, sr=SAMPLING_RATE, length=len(signal), hop_length=HOP_LENGTH)\n",
    "ipd.Audio(signal + click_track, rate=SAMPLING_RATE)"
   ],
   "metadata": {
    "collapsed": false,
    "ExecuteTime": {
     "start_time": "2024-05-05T22:36:49.654145500Z"
    }
   },
   "id": "f32ff74a1b0d277d"
  },
  {
   "cell_type": "markdown",
   "source": [
    "### Plot beat times over novelty function\n",
    "We can also create a plot with beat times drawn over the novelty function."
   ],
   "metadata": {
    "collapsed": false
   },
   "id": "f3a8a3e4c166b9d7"
  },
  {
   "cell_type": "code",
   "execution_count": null,
   "outputs": [],
   "source": [
    "plt.figure(figsize=(12, 3))\n",
    "plt.plot(t, novelty_function, 'purple')\n",
    "plt.vlines(beat_track, 0, novelty_function.max(), color='black')\n",
    "plt.xlim(30, 40)\n",
    "plt.xlabel(\"Time (s)\")\n",
    "plt.title(\"Beat track\")\n",
    "plt.show()"
   ],
   "metadata": {
    "collapsed": false,
    "ExecuteTime": {
     "start_time": "2024-05-05T22:36:49.655237200Z"
    }
   },
   "id": "d5372673275acece"
  },
  {
   "cell_type": "code",
   "execution_count": null,
   "outputs": [],
   "source": [],
   "metadata": {
    "collapsed": false,
    "ExecuteTime": {
     "start_time": "2024-05-05T22:36:49.655237200Z"
    }
   },
   "id": "8ec977393b9f2812"
  }
 ],
 "metadata": {
  "kernelspec": {
   "display_name": "Python 3",
   "language": "python",
   "name": "python3"
  },
  "language_info": {
   "codemirror_mode": {
    "name": "ipython",
    "version": 2
   },
   "file_extension": ".py",
   "mimetype": "text/x-python",
   "name": "python",
   "nbconvert_exporter": "python",
   "pygments_lexer": "ipython2",
   "version": "2.7.6"
  }
 },
 "nbformat": 4,
 "nbformat_minor": 5
}
